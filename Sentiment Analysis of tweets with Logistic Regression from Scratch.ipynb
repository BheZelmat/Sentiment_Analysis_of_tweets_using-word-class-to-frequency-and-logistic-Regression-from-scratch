{
 "cells": [
  {
   "cell_type": "markdown",
   "metadata": {},
   "source": [
    "<a name='0'></a>\n",
    "## Import Functions and  Read Data"
   ]
  },
  {
   "cell_type": "code",
   "execution_count": 210,
   "metadata": {},
   "outputs": [
    {
     "data": {
      "text/html": [
       "<div>\n",
       "<style scoped>\n",
       "    .dataframe tbody tr th:only-of-type {\n",
       "        vertical-align: middle;\n",
       "    }\n",
       "\n",
       "    .dataframe tbody tr th {\n",
       "        vertical-align: top;\n",
       "    }\n",
       "\n",
       "    .dataframe thead th {\n",
       "        text-align: right;\n",
       "    }\n",
       "</style>\n",
       "<table border=\"1\" class=\"dataframe\">\n",
       "  <thead>\n",
       "    <tr style=\"text-align: right;\">\n",
       "      <th></th>\n",
       "      <th>id</th>\n",
       "      <th>label</th>\n",
       "      <th>tweet</th>\n",
       "    </tr>\n",
       "  </thead>\n",
       "  <tbody>\n",
       "    <tr>\n",
       "      <th>0</th>\n",
       "      <td>1</td>\n",
       "      <td>0</td>\n",
       "      <td>#fingerprint #Pregnancy Test https://goo.gl/h1...</td>\n",
       "    </tr>\n",
       "    <tr>\n",
       "      <th>1</th>\n",
       "      <td>2</td>\n",
       "      <td>0</td>\n",
       "      <td>Finally a transparant silicon case ^^ Thanks t...</td>\n",
       "    </tr>\n",
       "    <tr>\n",
       "      <th>2</th>\n",
       "      <td>3</td>\n",
       "      <td>0</td>\n",
       "      <td>We love this! Would you go? #talk #makememorie...</td>\n",
       "    </tr>\n",
       "    <tr>\n",
       "      <th>3</th>\n",
       "      <td>4</td>\n",
       "      <td>0</td>\n",
       "      <td>I'm wired I know I'm George I was made that wa...</td>\n",
       "    </tr>\n",
       "    <tr>\n",
       "      <th>4</th>\n",
       "      <td>5</td>\n",
       "      <td>1</td>\n",
       "      <td>What amazing service! Apple won't even talk to...</td>\n",
       "    </tr>\n",
       "    <tr>\n",
       "      <th>...</th>\n",
       "      <td>...</td>\n",
       "      <td>...</td>\n",
       "      <td>...</td>\n",
       "    </tr>\n",
       "    <tr>\n",
       "      <th>7915</th>\n",
       "      <td>7916</td>\n",
       "      <td>0</td>\n",
       "      <td>Live out loud #lol #liveoutloud #selfie #smile...</td>\n",
       "    </tr>\n",
       "    <tr>\n",
       "      <th>7916</th>\n",
       "      <td>7917</td>\n",
       "      <td>0</td>\n",
       "      <td>We would like to wish you an amazing day! Make...</td>\n",
       "    </tr>\n",
       "    <tr>\n",
       "      <th>7917</th>\n",
       "      <td>7918</td>\n",
       "      <td>0</td>\n",
       "      <td>Helping my lovely 90 year old neighbor with he...</td>\n",
       "    </tr>\n",
       "    <tr>\n",
       "      <th>7918</th>\n",
       "      <td>7919</td>\n",
       "      <td>0</td>\n",
       "      <td>Finally got my #smart #pocket #wifi stay conne...</td>\n",
       "    </tr>\n",
       "    <tr>\n",
       "      <th>7919</th>\n",
       "      <td>7920</td>\n",
       "      <td>0</td>\n",
       "      <td>Apple Barcelona!!! #Apple #Store #BCN #Barcelo...</td>\n",
       "    </tr>\n",
       "  </tbody>\n",
       "</table>\n",
       "<p>7920 rows × 3 columns</p>\n",
       "</div>"
      ],
      "text/plain": [
       "        id  label                                              tweet\n",
       "0        1      0  #fingerprint #Pregnancy Test https://goo.gl/h1...\n",
       "1        2      0  Finally a transparant silicon case ^^ Thanks t...\n",
       "2        3      0  We love this! Would you go? #talk #makememorie...\n",
       "3        4      0  I'm wired I know I'm George I was made that wa...\n",
       "4        5      1  What amazing service! Apple won't even talk to...\n",
       "...    ...    ...                                                ...\n",
       "7915  7916      0  Live out loud #lol #liveoutloud #selfie #smile...\n",
       "7916  7917      0  We would like to wish you an amazing day! Make...\n",
       "7917  7918      0  Helping my lovely 90 year old neighbor with he...\n",
       "7918  7919      0  Finally got my #smart #pocket #wifi stay conne...\n",
       "7919  7920      0  Apple Barcelona!!! #Apple #Store #BCN #Barcelo...\n",
       "\n",
       "[7920 rows x 3 columns]"
      ]
     },
     "execution_count": 210,
     "metadata": {},
     "output_type": "execute_result"
    }
   ],
   "source": [
    "# run this cell to import nltk\n",
    "import nltk\n",
    "import pandas as pd \n",
    "import re\n",
    "import string\n",
    "import numpy as np\n",
    "import seaborn as sns \n",
    "import matplotlib.pyplot as plt \n",
    "from sklearn.model_selection import train_test_split\n",
    "from sklearn.metrics import classification_report\n",
    "from nltk.corpus import stopwords\n",
    "from nltk.stem import PorterStemmer\n",
    "from nltk.tokenize import TweetTokenizer\n",
    "\n",
    "\n",
    "\n",
    "df=pd.read_csv('sentiment_analysis.csv')\n",
    "df"
   ]
  },
  {
   "cell_type": "code",
   "execution_count": 211,
   "metadata": {},
   "outputs": [
    {
     "name": "stderr",
     "output_type": "stream",
     "text": [
      "[nltk_data] Downloading package stopwords to\n",
      "[nltk_data]     C:\\Users\\asus\\AppData\\Roaming\\nltk_data...\n",
      "[nltk_data]   Package stopwords is already up-to-date!\n"
     ]
    },
    {
     "data": {
      "text/plain": [
       "True"
      ]
     },
     "execution_count": 211,
     "metadata": {},
     "output_type": "execute_result"
    }
   ],
   "source": [
    "nltk.download('stopwords')"
   ]
  },
  {
   "cell_type": "code",
   "execution_count": null,
   "metadata": {},
   "outputs": [],
   "source": []
  },
  {
   "cell_type": "code",
   "execution_count": 212,
   "metadata": {},
   "outputs": [],
   "source": [
    "\n",
    "\n",
    "    \n",
    "\n",
    "def process_tweet(tweet):\n",
    "    \"\"\"Process tweet function.\n",
    "    Input:\n",
    "        tweet: a string containing a tweet\n",
    "    Output:\n",
    "        tweets_clean: a list of words containing the processed tweet\n",
    "\n",
    "    \"\"\"\n",
    "    stemmer = PorterStemmer()\n",
    "    stopwords_english = stopwords.words('english')\n",
    "    # remove stock market tickers like $GE\n",
    "    tweet = re.sub(r'\\$\\w*', '', tweet)\n",
    "    # remove old style retweet text \"RT\"\n",
    "    tweet = re.sub(r'^RT[\\s]+', '', tweet)\n",
    "    # remove hyperlinks    \n",
    "    tweet = re.sub(r'https?://[^\\s\\n\\r]+', '', tweet)\n",
    "    # remove hashtags\n",
    "    # only removing the hash # sign from the word\n",
    "    tweet = re.sub(r'#', '', tweet)\n",
    "    # tokenize tweets\n",
    "    tokenizer = TweetTokenizer(preserve_case=False, strip_handles=True,\n",
    "                               reduce_len=True)\n",
    "    tweet_tokens = tokenizer.tokenize(tweet)\n",
    "\n",
    "    tweets_clean = []\n",
    "    for word in tweet_tokens:\n",
    "        if (word not in stopwords_english and  # remove stopwords\n",
    "                word not in string.punctuation):  # remove punctuation\n",
    "            # tweets_clean.append(word)\n",
    "            stem_word = stemmer.stem(word)  # stemming word\n",
    "            tweets_clean.append(stem_word)\n",
    "\n",
    "    return tweets_clean\n",
    "\n",
    "\n",
    "def build_freqs(tweets, ys):\n",
    "    \"\"\"Build frequencies.\n",
    "    Input:\n",
    "        tweets: a list of tweets\n",
    "        ys: an m x 1 array with the sentiment label of each tweet\n",
    "            (either 0 or 1)\n",
    "    Output:\n",
    "        freqs: a dictionary mapping each (word, sentiment) pair to its\n",
    "        frequency\n",
    "    \"\"\"\n",
    "    # Convert np array to list since zip needs an iterable.\n",
    "    # The squeeze is necessary or the list ends up with one element.\n",
    "    # Also note that this is just a NOP if ys is already a list.\n",
    "    yslist = np.squeeze(ys).tolist()\n",
    "\n",
    "    # Start with an empty dictionary and populate it by looping over all tweets\n",
    "    # and over all processed words in each tweet.\n",
    "    freqs = {}\n",
    "    for y, tweet in zip(yslist, tweets):\n",
    "        for word in process_tweet(tweet):\n",
    "            pair = (word, y)\n",
    "            if pair in freqs:\n",
    "                freqs[pair] += 1\n",
    "            else:\n",
    "                freqs[pair] = 1\n",
    "\n",
    "    return freqs\n"
   ]
  },
  {
   "cell_type": "markdown",
   "metadata": {},
   "source": [
    "## Useful plots for EDA"
   ]
  },
  {
   "cell_type": "code",
   "execution_count": 213,
   "metadata": {},
   "outputs": [
    {
     "data": {
      "image/png": "[encoded data removed]",
      "text/plain": [
       "<Figure size 864x432 with 1 Axes>"
      ]
     },
     "metadata": {
      "needs_background": "light"
     },
     "output_type": "display_data"
    }
   ],
   "source": [
    "\n",
    "\n",
    "# Plot the distribution of tweet lengths\n",
    "tweet_lengths = df['tweet'].str.len()\n",
    "plt.figure(figsize=(12, 6))\n",
    "sns.histplot(tweet_lengths, bins=30, kde=True)\n",
    "plt.title('Distribution of Tweet Lengths')\n",
    "plt.xlabel('Length of Tweet')\n",
    "plt.ylabel('Frequency')\n",
    "plt.show()\n",
    "\n",
    "\n",
    "\n",
    "\n",
    "\n"
   ]
  },
  {
   "cell_type": "code",
   "execution_count": 214,
   "metadata": {},
   "outputs": [
    {
     "data": {
      "image/png": "[encoded data removed]",
      "text/plain": [
       "<Figure size 432x288 with 1 Axes>"
      ]
     },
     "metadata": {
      "needs_background": "light"
     },
     "output_type": "display_data"
    }
   ],
   "source": [
    "# Plot the distribution of labels (sentiments)\n",
    "plt.figure(figsize=(6, 4))\n",
    "sns.countplot(x='label', data=df)\n",
    "plt.title('Distribution of Sentiments')\n",
    "plt.xlabel('Sentiment Label')\n",
    "plt.ylabel('Count')\n",
    "plt.show()"
   ]
  },
  {
   "cell_type": "markdown",
   "metadata": {},
   "source": [
    "### Downsampling the data for balanced classes "
   ]
  },
  {
   "cell_type": "code",
   "execution_count": 215,
   "metadata": {},
   "outputs": [],
   "source": [
    "\n",
    "def balance_dataframe(df, label_column):\n",
    "    \"\"\"\n",
    "    Balance the DataFrame by undersampling the majority class.\n",
    "\n",
    "    Parameters:\n",
    "    df (pd.DataFrame): The DataFrame to balance.\n",
    "    label_column (str): The name of the column containing the class labels.\n",
    "\n",
    "    Returns:\n",
    "    pd.DataFrame: A balanced DataFrame.\n",
    "    \"\"\"\n",
    "    # Calculate the counts of each class\n",
    "    class_counts = df[label_column].value_counts()\n",
    "    \n",
    "    # Find the count of the minority class\n",
    "    min_class_count = class_counts.min()\n",
    "\n",
    "    # Create a list to store the DataFrame slices\n",
    "    df_slices = []\n",
    "\n",
    "    for class_label in class_counts.index:\n",
    "        df_class = df[df[label_column] == class_label]\n",
    "        df_class_sampled = df_class.sample(min_class_count, random_state=42)\n",
    "        df_slices.append(df_class_sampled)\n",
    "\n",
    "    # Concatenate the downsampled DataFrames\n",
    "    balanced_df = pd.concat(df_slices)\n",
    "\n",
    "    # Shuffle the DataFrame\n",
    "    balanced_df = balanced_df.sample(frac=1, random_state=42).reset_index(drop=True)\n",
    "\n",
    "    return balanced_df\n",
    "df=balance_dataframe(df,'label')"
   ]
  },
  {
   "cell_type": "code",
   "execution_count": 216,
   "metadata": {},
   "outputs": [
    {
     "data": {
      "image/png": "[encoded data removed]",
      "text/plain": [
       "<Figure size 432x288 with 1 Axes>"
      ]
     },
     "metadata": {
      "needs_background": "light"
     },
     "output_type": "display_data"
    }
   ],
   "source": [
    "# Plot the distribution of the balanced  labels (sentiments)\n",
    "plt.figure(figsize=(6, 4))\n",
    "sns.countplot(x='label', data=df)\n",
    "plt.title('Distribution of Sentiments')\n",
    "plt.xlabel('Sentiment Label')\n",
    "plt.ylabel('Count')\n",
    "plt.show()"
   ]
  },
  {
   "cell_type": "code",
   "execution_count": 217,
   "metadata": {},
   "outputs": [
    {
     "data": {
      "image/png": "[encoded data removed]",
      "text/plain": [
       "<Figure size 864x432 with 1 Axes>"
      ]
     },
     "metadata": {
      "needs_background": "light"
     },
     "output_type": "display_data"
    }
   ],
   "source": [
    "#Sentiment distribution by tweet length\n",
    "df2=pd.DataFrame()\n",
    "df2['tweet_length'] = df['tweet'].str.len()\n",
    "df2['label']=df['label']\n",
    "plt.figure(figsize=(12, 6))\n",
    "sns.boxplot(x='label', y='tweet_length', data=df2)\n",
    "plt.title('Tweet Length Distribution by Sentiment')\n",
    "plt.xlabel('Sentiment Label (0: Negative, 1: Positive)')\n",
    "plt.ylabel('Tweet Length')\n",
    "plt.show()"
   ]
  },
  {
   "cell_type": "code",
   "execution_count": 218,
   "metadata": {},
   "outputs": [
    {
     "data": {
      "image/png": "[encoded data removed]",
      "text/plain": [
       "<Figure size 864x432 with 1 Axes>"
      ]
     },
     "metadata": {
      "needs_background": "light"
     },
     "output_type": "display_data"
    }
   ],
   "source": [
    "\n",
    "# Plot the distribution of the number of words in each tweet\n",
    "df2['word_count'] = df['tweet'].apply(lambda x: len(x.split()))\n",
    "plt.figure(figsize=(12, 6))\n",
    "sns.histplot(df2['word_count'], bins=30, kde=True, color='skyblue')\n",
    "plt.title('Distribution of Word Count in Tweets')\n",
    "plt.xlabel('Word Count')\n",
    "plt.ylabel('Frequency')\n",
    "plt.show()\n",
    "\n"
   ]
  },
  {
   "cell_type": "code",
   "execution_count": 219,
   "metadata": {},
   "outputs": [
    {
     "data": {
      "image/png": "[encoded data removed]",
      "text/plain": [
       "<Figure size 864x432 with 1 Axes>"
      ]
     },
     "metadata": {
      "needs_background": "light"
     },
     "output_type": "display_data"
    }
   ],
   "source": [
    "\n",
    "# Plot the number of unique words in each tweet\n",
    "df2['unique_word_count'] = df['tweet'].apply(lambda x: len(set(x.split())))\n",
    "plt.figure(figsize=(12, 6))\n",
    "sns.histplot(df2['unique_word_count'], bins=30, kde=True, color='purple')\n",
    "plt.title('Distribution of Unique Word Count in Tweets')\n",
    "plt.xlabel('Unique Word Count')\n",
    "plt.ylabel('Frequency')\n",
    "plt.show()"
   ]
  },
  {
   "cell_type": "code",
   "execution_count": 220,
   "metadata": {},
   "outputs": [
    {
     "data": {
      "image/png": "[encoded data removed]",
      "text/plain": [
       "<Figure size 864x432 with 1 Axes>"
      ]
     },
     "metadata": {
      "needs_background": "light"
     },
     "output_type": "display_data"
    }
   ],
   "source": [
    "\n",
    "# Plot the average word length in each tweet\n",
    "df2['avg_word_length'] = df['tweet'].apply(lambda x: np.mean([len(word) for word in x.split()]) if x.split() else 0)\n",
    "plt.figure(figsize=(12, 6))\n",
    "sns.histplot(df2['avg_word_length'], bins=30, kde=True, color='orange')\n",
    "plt.title('Distribution of Average Word Length in Tweets')\n",
    "plt.xlabel('Average Word Length')\n",
    "plt.ylabel('Frequency')\n",
    "plt.show()"
   ]
  },
  {
   "cell_type": "code",
   "execution_count": 221,
   "metadata": {},
   "outputs": [
    {
     "data": {
      "image/png": "[encoded data removed]",
      "text/plain": [
       "<Figure size 720x576 with 2 Axes>"
      ]
     },
     "metadata": {
      "needs_background": "light"
     },
     "output_type": "display_data"
    }
   ],
   "source": [
    "\n",
    "\n",
    "# Correlation heatmap between numerical features\n",
    "plt.figure(figsize=(10, 8))\n",
    "sns.heatmap(df2[['word_count', 'unique_word_count', 'avg_word_length', 'tweet_length', 'label']].corr(), annot=True, fmt=\".2f\")\n",
    "plt.title('Correlation Heatmap of Numerical Features')\n",
    "plt.show()"
   ]
  },
  {
   "cell_type": "markdown",
   "metadata": {},
   "source": [
    "## ## Split the Data into Training & Testing sets "
   ]
  },
  {
   "cell_type": "code",
   "execution_count": 222,
   "metadata": {},
   "outputs": [],
   "source": [
    "\n",
    "def data_split(data, target_column, test_size=0.2, random_state=42):\n",
    "    # Assuming target is already binary (0s and 1s) and categorical\n",
    "    target = data[target_column]\n",
    "\n",
    "    # Drop the original target column and 'id' column from the features\n",
    "    features = data.drop(columns=[target_column, 'id'])\n",
    "\n",
    "    # Split the data into training and testing sets\n",
    "    X_train, X_test, y_train, y_test = train_test_split(features, target, test_size=test_size, random_state=random_state)\n",
    "\n",
    "    # Convert target variables to NumPy arrays and reshape them\n",
    "    y_train = y_train.to_numpy().reshape(-1, 1)\n",
    "    y_test = y_test.to_numpy().reshape(-1, 1)\n",
    "\n",
    "    # Convert feature variables to NumPy arrays\n",
    "    X_train = X_train.to_numpy()\n",
    "    X_test = X_test.to_numpy()\n",
    "\n",
    "    return X_train, X_test, y_train, y_test\n",
    "\n",
    "    \n",
    "\n",
    "train_x, test_x, train_y, test_y = data_split(df,'label')"
   ]
  },
  {
   "cell_type": "code",
   "execution_count": 223,
   "metadata": {},
   "outputs": [
    {
     "name": "stdout",
     "output_type": "stream",
     "text": [
      "train_y.shape = (3241, 1)\n",
      "test_y.shape = (811, 1)\n",
      "train_x.shape = (3241, 1)\n",
      "test_x.shape = (811, 1)\n"
     ]
    }
   ],
   "source": [
    "# Print the shape train and test sets\n",
    "print(\"train_y.shape = \" + str(train_y.shape))\n",
    "print(\"test_y.shape = \" + str(test_y.shape))\n",
    "print(\"train_x.shape = \" + str(train_x.shape))\n",
    "print(\"test_x.shape = \" + str(test_x.shape))"
   ]
  },
  {
   "cell_type": "code",
   "execution_count": 224,
   "metadata": {},
   "outputs": [],
   "source": [
    "# convert the data into list of tweets and list of labels \n",
    "train_x=np.squeeze(train_x)\n",
    "test_x=np.squeeze(test_x)\n"
   ]
  },
  {
   "cell_type": "code",
   "execution_count": 225,
   "metadata": {},
   "outputs": [
    {
     "name": "stdout",
     "output_type": "stream",
     "text": [
      "type(freqs) = <class 'dict'>\n",
      "len(freqs) = 9186\n"
     ]
    }
   ],
   "source": [
    "# create frequency dictionary\n",
    "freqs = build_freqs(train_x, train_y)\n",
    "\n",
    "# check the output\n",
    "print(\"type(freqs) = \" + str(type(freqs)))\n",
    "print(\"len(freqs) = \" + str(len(freqs.keys())))"
   ]
  },
  {
   "cell_type": "code",
   "execution_count": 226,
   "metadata": {},
   "outputs": [
    {
     "data": {
      "image/png": "[encoded data removed]",
      "text/plain": [
       "<Figure size 864x432 with 1 Axes>"
      ]
     },
     "metadata": {
      "needs_background": "light"
     },
     "output_type": "display_data"
    },
    {
     "data": {
      "image/png": "[encoded data removed]",
      "text/plain": [
       "<Figure size 864x432 with 1 Axes>"
      ]
     },
     "metadata": {
      "needs_background": "light"
     },
     "output_type": "display_data"
    }
   ],
   "source": [
    "\n",
    "# Function to sort the frequencies for positive and negative sentiments\n",
    "def sort_freqs(freqs):\n",
    "    pos_freqs = {}\n",
    "    neg_freqs = {}\n",
    "    \n",
    "    for key, value in freqs.items():\n",
    "        word, sentiment = key\n",
    "        if sentiment == 1:\n",
    "            pos_freqs[word] = pos_freqs.get(word, 0) + value\n",
    "        else:\n",
    "            neg_freqs[word] = neg_freqs.get(word, 0) + value\n",
    "\n",
    "    # Sort the frequencies\n",
    "    sorted_pos = sorted(pos_freqs.items(), key=lambda x: x[1], reverse=True)\n",
    "    sorted_neg = sorted(neg_freqs.items(), key=lambda x: x[1], reverse=True)\n",
    "\n",
    "    return sorted_pos[:10], sorted_neg[:10]\n",
    "\n",
    "# Getting the top 10 positive and negative words\n",
    "top_pos, top_neg = sort_freqs(freqs)\n",
    "\n",
    "# Separating words and counts for plotting\n",
    "pos_words, pos_counts = zip(*top_pos)\n",
    "neg_words, neg_counts = zip(*top_neg)\n",
    "\n",
    "# Plotting the top positive words\n",
    "plt.figure(figsize=(12, 6))\n",
    "plt.bar(pos_words, pos_counts, color='green')\n",
    "plt.title('Top 10 Positive Words')\n",
    "plt.ylabel('Frequency')\n",
    "plt.show()\n",
    "\n",
    "# Plotting the top negative words\n",
    "plt.figure(figsize=(12, 6))\n",
    "plt.bar(neg_words, neg_counts, color='red')\n",
    "plt.title('Top 10 Negative Words')\n",
    "plt.ylabel('Frequency')\n",
    "plt.show()"
   ]
  },
  {
   "cell_type": "markdown",
   "metadata": {},
   "source": [
    "### Process Tweet\n",
    "The given function 'process_tweet' tokenizes the tweet into individual words, removes stop words and applies stemming."
   ]
  },
  {
   "cell_type": "code",
   "execution_count": 227,
   "metadata": {},
   "outputs": [
    {
     "name": "stdout",
     "output_type": "stream",
     "text": [
      "This is an example of a positive tweet: \n",
      " trying to speak to someone at #apple to sort a new battery for my mac book apple #big #time #poorservice\n",
      "\n",
      "This is an example of the processed version of the tweet: \n",
      " ['tri', 'speak', 'someon', 'appl', 'sort', 'new', 'batteri', 'mac', 'book', 'appl', 'big', 'time', 'poorservic']\n"
     ]
    }
   ],
   "source": [
    "\n",
    "print('This is an example of a positive tweet: \\n', train_x[0])\n",
    "print('\\nThis is an example of the processed version of the tweet: \\n', process_tweet(train_x[0]))"
   ]
  },
  {
   "cell_type": "markdown",
   "metadata": {},
   "source": [
    "\n",
    "##  Logistic Regression \n",
    "\n",
    "\n"
   ]
  },
  {
   "cell_type": "code",
   "execution_count": 228,
   "metadata": {},
   "outputs": [],
   "source": [
    "# sigmoid Function\n",
    "def sigmoid(z): \n",
    "    '''\n",
    "    Input:\n",
    "        z: is the input (can be a scalar or an array)\n",
    "    Output:\n",
    "        h: the sigmoid of z\n",
    "    '''\n",
    "    \n",
    "    \n",
    "    # calculate the sigmoid of z\n",
    "    h = 1/(1+np.exp(-z))\n",
    "    \n",
    "    \n",
    "    return h"
   ]
  },
  {
   "cell_type": "markdown",
   "metadata": {},
   "source": [
    "#### Logistic Regression: Regression and a Sigmoid\n",
    "\n",
    "Logistic regression takes a regular linear regression, and applies a sigmoid to the output of the linear regression.\n",
    "\n",
    "Regression:\n",
    "$$z = \\theta_0 x_0 + \\theta_1 x_1 + \\theta_2 x_2 + ... \\theta_N x_N$$\n",
    "Note that the $\\theta$ values are \"weights\". If you took the deep learning specialization, we referred to the weights with the 'w' vector.  In this course, we're using a different variable $\\theta$ to refer to the weights.\n",
    "\n",
    "Logistic regression\n",
    "$$ h(z) = \\frac{1}{1+\\exp^{-z}}$$\n",
    "$$z = \\theta_0 x_0 + \\theta_1 x_1 + \\theta_2 x_2 + ... \\theta_N x_N$$\n",
    "We will refer to 'z' as the 'logits'."
   ]
  },
  {
   "cell_type": "markdown",
   "metadata": {},
   "source": [
    "<a name='1-2'></a>\n",
    "### 1.2 - Cost function and Gradient\n",
    "\n",
    "The cost function used for logistic regression is the average of the log loss across all training examples:\n",
    "\n",
    "$$J(\\theta) = -\\frac{1}{m} \\sum_{i=1}^m y^{(i)}\\log (h(z(\\theta)^{(i)})) + (1-y^{(i)})\\log (1-h(z(\\theta)^{(i)}))\\tag{5} $$\n",
    "* $m$ is the number of training examples\n",
    "* $y^{(i)}$ is the actual label of training example 'i'.\n",
    "* $h(z^{(i)})$ is the model's prediction for the training example 'i'.\n",
    "\n",
    "The loss function for a single training example is\n",
    "$$ Loss = -1 \\times \\left( y^{(i)}\\log (h(z(\\theta)^{(i)})) + (1-y^{(i)})\\log (1-h(z(\\theta)^{(i)})) \\right)$$\n",
    "\n",
    "* All the $h$ values are between 0 and 1, so the logs will be negative. That is the reason for the factor of -1 applied to the sum of the two loss terms.\n",
    "* Note that when the model predicts 1 ($h(z(\\theta)) = 1$) and the label 'y' is also 1, the loss for that training example is 0. \n",
    "* Similarly, when the model predicts 0 ($h(z(\\theta)) = 0$) and the actual label is also 0, the loss for that training example is 0. \n",
    "* However, when the model prediction is close to 1 ($h(z(\\theta)) = 0.9999$) and the label is 0, the second term of the log loss becomes a large negative number, which is then multiplied by the overall factor of -1 to convert it to a positive loss value. $-1 \\times (1 - 0) \\times log(1 - 0.9999) \\approx 9.2$ The closer the model prediction gets to 1, the larger the loss."
   ]
  },
  {
   "cell_type": "code",
   "execution_count": 229,
   "metadata": {},
   "outputs": [
    {
     "data": {
      "text/plain": [
       "9.210340371976294"
      ]
     },
     "execution_count": 229,
     "metadata": {},
     "output_type": "execute_result"
    }
   ],
   "source": [
    "# verify that when the model predicts close to 1, but the actual label is 0, the loss is a large positive value\n",
    "-1 * (1 - 0) * np.log(1 - 0.9999) # loss is about 9.2"
   ]
  },
  {
   "cell_type": "markdown",
   "metadata": {},
   "source": [
    "* Likewise, if the model predicts close to 0 ($h(z) = 0.0001$) but the actual label is 1, the first term in the loss function becomes a large number: $-1 \\times log(0.0001) \\approx 9.2$.  The closer the prediction is to zero, the larger the loss."
   ]
  },
  {
   "cell_type": "code",
   "execution_count": 230,
   "metadata": {},
   "outputs": [
    {
     "data": {
      "text/plain": [
       "9.210340371976182"
      ]
     },
     "execution_count": 230,
     "metadata": {},
     "output_type": "execute_result"
    }
   ],
   "source": [
    "# verify that when the model predicts close to 0 but the actual label is 1, the loss is a large positive value\n",
    "-1 * np.log(0.0001) # loss is about 9.2"
   ]
  },
  {
   "cell_type": "markdown",
   "metadata": {},
   "source": [
    "#### Update the weights\n",
    "\n",
    "To update your weight vector $\\theta$, you will apply gradient descent to iteratively improve your model's predictions.  \n",
    "The gradient of the cost function $J$ with respect to one of the weights $\\theta_j$ is:\n",
    "\n",
    "$$\\nabla_{\\theta_j}J(\\theta) = \\frac{1}{m} \\sum_{i=1}^m(h^{(i)}-y^{(i)})x^{(i)}_j \\tag{5}$$\n",
    "* 'i' is the index across all 'm' training examples.\n",
    "* 'j' is the index of the weight $\\theta_j$, so $x^{(i)}_j$ is the feature associated with weight $\\theta_j$\n",
    "\n",
    "* To update the weight $\\theta_j$, we adjust it by subtracting a fraction of the gradient determined by $\\alpha$:\n",
    "$$\\theta_j = \\theta_j - \\alpha \\times \\nabla_{\\theta_j}J(\\theta) $$\n",
    "* The learning rate $\\alpha$ is a value that we choose to control how big a single update will be.\n"
   ]
  },
  {
   "cell_type": "code",
   "execution_count": 231,
   "metadata": {},
   "outputs": [],
   "source": [
    "\n",
    "def gradientDescent(x, y, theta, alpha, num_iters):\n",
    "    '''\n",
    "    Input:\n",
    "        x: matrix of features which is (m,n+1)\n",
    "        y: corresponding labels of the input matrix x, dimensions (m,1)\n",
    "        theta: weight vector of dimension (n+1,1)\n",
    "        alpha: learning rate\n",
    "        num_iters: number of iterations you want to train your model for\n",
    "    Output:\n",
    "        J: the final cost\n",
    "        theta: your final weight vector\n",
    "    Hint: you might want to print the cost to make sure that it is going down.\n",
    "    '''\n",
    "\n",
    "   \n",
    "    # get 'm', the number of rows in matrix x\n",
    "    m = x.shape[0]\n",
    "    \n",
    "    \n",
    "    for i in range(0, num_iters):\n",
    "        \n",
    "        # get z, the dot product of x and theta\n",
    "        z = np.dot(x, theta)\n",
    "        \n",
    "        \n",
    "        # get the sigmoid of z\n",
    "        h = sigmoid(z)\n",
    "        \n",
    "        # calculate the cost function\n",
    "        J = (-1/m)*(  np.dot( y.transpose(), np.log(h) )  +   np.dot( (1-y).transpose(), np.log(1-h))   )\n",
    "        \n",
    "\n",
    "        # update the weights theta\n",
    "        theta = theta - (alpha/m)*(np.dot(x.transpose(),h-y))\n",
    "        \n",
    "   \n",
    "    J = float(J)\n",
    "    return J, theta"
   ]
  },
  {
   "cell_type": "code",
   "execution_count": 232,
   "metadata": {
    "scrolled": true
   },
   "outputs": [
    {
     "name": "stdout",
     "output_type": "stream",
     "text": [
      "The cost after training is 0.67094970.\n",
      "The resulting vector of weights is [4.1e-07, 0.00035658, 7.309e-05]\n"
     ]
    }
   ],
   "source": [
    "\n",
    "# Construct a synthetic test case using numpy PRNG functions\n",
    "np.random.seed(1)\n",
    "# X input is 10 x 3 with ones for the bias terms\n",
    "tmp_X = np.append(np.ones((10, 1)), np.random.rand(10, 2) * 2000, axis=1)\n",
    "# Y Labels are 10 x 1\n",
    "tmp_Y = (np.random.rand(10, 1) > 0.35).astype(float)\n",
    "\n",
    "# Apply gradient descent\n",
    "tmp_J, tmp_theta = gradientDescent(tmp_X, tmp_Y, np.zeros((3, 1)), 1e-8, 700)\n",
    "print(f\"The cost after training is {tmp_J:.8f}.\")\n",
    "print(f\"The resulting vector of weights is {[round(t, 8) for t in np.squeeze(tmp_theta)]}\")"
   ]
  },
  {
   "cell_type": "markdown",
   "metadata": {},
   "source": [
    "\n",
    "##  Extracting the Features\n",
    "\n"
   ]
  },
  {
   "cell_type": "code",
   "execution_count": 233,
   "metadata": {},
   "outputs": [],
   "source": [
    "\n",
    "def extract_features(tweet, freqs, process_tweet=process_tweet):\n",
    "    '''\n",
    "    Input: \n",
    "        tweet: a string containing one tweet\n",
    "        freqs: a dictionary corresponding to the frequencies of each tuple (word, label)\n",
    "    Output: \n",
    "        x: a feature vector of dimension (1,3)\n",
    "    '''\n",
    "    # process_tweet tokenizes, stems, and removes stopwords\n",
    "    word_l = process_tweet(tweet)\n",
    "    \n",
    "    \n",
    "    # 3 elements for [bias, positive, negative] counts\n",
    "    x = np.zeros(3) \n",
    "    \n",
    "    # bias term is set to 1\n",
    "    x[0] = 1 \n",
    "    \n",
    "\n",
    "    \n",
    "    # loop through each word in the list of words\n",
    "    for word in word_l:\n",
    "        \n",
    "        # increment the word count for the positive label 1\n",
    "        x[1] += freqs.get((word,1.0),0.0)\n",
    "        \n",
    "        # increment the word count for the negative label 0\n",
    "        x[2] += freqs.get((word,0.0),0.0)\n",
    "        \n",
    "\n",
    "    \n",
    "    x = x[None, :]  # adding batch dimension for further processing\n",
    "    assert(x.shape == (1, 3))\n",
    "    return x"
   ]
  },
  {
   "cell_type": "markdown",
   "metadata": {},
   "source": [
    "\n",
    "##  Training the Model\n",
    "\n",
    "\n",
    "\n"
   ]
  },
  {
   "cell_type": "code",
   "execution_count": 234,
   "metadata": {},
   "outputs": [
    {
     "name": "stdout",
     "output_type": "stream",
     "text": [
      "The cost after training is 0.61626670.\n",
      "The resulting vector of weights is [5e-08, 0.00037401, -0.00040591]\n"
     ]
    }
   ],
   "source": [
    "# collect the features 'x' and stack them into a matrix 'X'\n",
    "X = np.zeros((len(train_x), 3))\n",
    "for i in range(len(train_x)):\n",
    "    X[i, :]= extract_features(train_x[i], freqs)\n",
    "\n",
    "# training labels corresponding to X\n",
    "Y = train_y\n",
    "\n",
    "# Apply gradient descent\n",
    "J, theta = gradientDescent(X, Y, np.zeros((3, 1)), 1e-9, 4000)\n",
    "print(f\"The cost after training is {J:.8f}.\")\n",
    "print(f\"The resulting vector of weights is {[round(t, 8) for t in np.squeeze(theta)]}\")"
   ]
  },
  {
   "cell_type": "markdown",
   "metadata": {},
   "source": [
    "\n",
    "##  Test  Logistic Regression\n",
    "\n"
   ]
  },
  {
   "cell_type": "code",
   "execution_count": 235,
   "metadata": {},
   "outputs": [],
   "source": [
    "# UNQ_C4 GRADED FUNCTION: predict_tweet\n",
    "def predict_tweet(tweet, freqs, theta):\n",
    "    '''\n",
    "    Input: \n",
    "        tweet: a string\n",
    "        freqs: a dictionary corresponding to the frequencies of each tuple (word, label)\n",
    "        theta: (3,1) vector of weights\n",
    "    Output: \n",
    "        y_pred: the probability of a tweet being positive or negative\n",
    "    '''\n",
    "\n",
    "    \n",
    "    # extract the features of the tweet and store it into x\n",
    "    x = extract_features(tweet, freqs)\n",
    "    \n",
    "    # make the prediction using x and theta\n",
    "    y_pred = sigmoid(np.dot(x,theta))\n",
    "    \n",
    "    \n",
    "    return y_pred"
   ]
  },
  {
   "cell_type": "markdown",
   "metadata": {},
   "source": [
    "\n",
    "###  Check the Performance using the Test Set\n",
    "\n"
   ]
  },
  {
   "cell_type": "code",
   "execution_count": 236,
   "metadata": {},
   "outputs": [],
   "source": [
    "\n",
    "\n",
    "def test_logistic_regression(test_x, test_y, freqs, theta, predict_tweet):\n",
    "    \"\"\"\n",
    "    Test the logistic regression model and return its accuracy and classification report.\n",
    "\n",
    "    Parameters:\n",
    "    test_x (list): A list of tweets.\n",
    "    test_y (np.ndarray): A numpy array with the corresponding labels for the list of tweets.\n",
    "    freqs (dict): A dictionary with the frequency of each pair (or tuple).\n",
    "    theta (np.ndarray): Weight vector of dimension (3, 1).\n",
    "    predict_tweet (function): A function to predict the sentiment of a tweet.\n",
    "\n",
    "    Returns:\n",
    "    float, dict: The accuracy and a dictionary containing the classification report.\n",
    "    \"\"\"\n",
    "    \n",
    "    y_hat = []\n",
    "    \n",
    "    for tweet in test_x:\n",
    "        # get the label prediction for the tweet\n",
    "        y_pred = predict_tweet(tweet, freqs, theta)\n",
    "        \n",
    "        if y_pred > 0.5:\n",
    "            # append 1.0 to the list\n",
    "            y_hat.append(1.0)\n",
    "        else:\n",
    "            # append 0 to the list\n",
    "            y_hat.append(0.0)\n",
    "\n",
    "    # Calculate the accuracy\n",
    "    accuracy = np.mean(np.array(y_hat) == np.squeeze(test_y))\n",
    "\n",
    "    # Generate classification report\n",
    "    report = classification_report(np.squeeze(test_y), y_hat, output_dict=True)\n",
    "\n",
    "    return accuracy, report\n",
    "\n",
    "\n",
    "def print_classification_report(report):\n",
    "    \"\"\"\n",
    "    Print the classification report.\n",
    "\n",
    "    Parameters:\n",
    "    report (dict): A dictionary containing the classification report.\n",
    "    \"\"\"\n",
    "    print(\"Classification Report:\")\n",
    "    for key, value in report.items():\n",
    "        if isinstance(value, dict):\n",
    "            print(f\"\\nClass {key}:\")\n",
    "            for score, score_value in value.items():\n",
    "                print(f\"{score.capitalize()}: {score_value:.2f}\")\n",
    "        else:\n",
    "            print(f\"{key.capitalize()}: {value:.2f}\")\n",
    "\n",
    "\n"
   ]
  },
  {
   "cell_type": "code",
   "execution_count": 240,
   "metadata": {},
   "outputs": [
    {
     "name": "stdout",
     "output_type": "stream",
     "text": [
      "Accuracy: 77.0 %\n",
      "Classification Report:\n",
      "\n",
      "Class 0:\n",
      "Precision: 0.75\n",
      "Recall: 0.82\n",
      "F1-score: 0.78\n",
      "Support: 412.00\n",
      "\n",
      "Class 1:\n",
      "Precision: 0.79\n",
      "Recall: 0.72\n",
      "F1-score: 0.75\n",
      "Support: 399.00\n",
      "Accuracy: 0.77\n",
      "\n",
      "Class macro avg:\n",
      "Precision: 0.77\n",
      "Recall: 0.77\n",
      "F1-score: 0.77\n",
      "Support: 811.00\n",
      "\n",
      "Class weighted avg:\n",
      "Precision: 0.77\n",
      "Recall: 0.77\n",
      "F1-score: 0.77\n",
      "Support: 811.00\n"
     ]
    }
   ],
   "source": [
    "accuracy, report = test_logistic_regression(test_x, test_y, freqs, theta, predict_tweet)\n",
    "print(\"Accuracy:\", round(accuracy,2)*100,\"%\")\n",
    "print_classification_report(report)"
   ]
  },
  {
   "cell_type": "markdown",
   "metadata": {},
   "source": [
    "\n",
    "##  Error Analysis\n",
    "\n"
   ]
  },
  {
   "cell_type": "code",
   "execution_count": 238,
   "metadata": {},
   "outputs": [
    {
     "name": "stdout",
     "output_type": "stream",
     "text": [
      "Label Predicted Tweet\n",
      "THE TWEET IS: Monday and fresh juice! #carrot #ginger #celery #apple #yum #healthy #backontrack … https://www.instagram.com/p/BFLpRoyOIn-/\n",
      "THE PROCESSED TWEET IS: ['monday', 'fresh', 'juic', 'carrot', 'ginger', 'celeri', 'appl', 'yum', 'healthi', 'backontrack', '…']\n",
      "0\t0.50417307\tb'monday fresh juic carrot ginger celeri appl yum healthi backontrack '\n",
      "THE TWEET IS: Grandma's apple pie #grandma #applepie #enjoy #good #food #apple #instafood #instagood… http://instagram.com/p/qcK9saJwbh/\n",
      "THE PROCESSED TWEET IS: [\"grandma'\", 'appl', 'pie', 'grandma', 'applepi', 'enjoy', 'good', 'food', 'appl', 'instafood', 'instagood', '…']\n",
      "0\t0.54811613\tb\"grandma' appl pie grandma applepi enjoy good food appl instafood instagood \"\n",
      "THE TWEET IS: Piece of heaven Paula Red cheered me up #apple #paulared #yummy #goodstartoftheday https://www.instagram.com/p/BJesLKbBeRT/\n",
      "THE PROCESSED TWEET IS: ['piec', 'heaven', 'paula', 'red', 'cheer', 'appl', 'paular', 'yummi', 'goodstartoftheday']\n",
      "0\t0.55134824\tb'piec heaven paula red cheer appl paular yummi goodstartoftheday'\n",
      "THE TWEET IS: Fill in the blanks F_ _ K #PSN F_ _ K #SONY F _ _ K wasting money on any #Sony device in the future poor #Customer loyalty\n",
      "THE PROCESSED TWEET IS: ['fill', 'blank', 'f_', 'k', 'psn', 'f_', 'k', 'soni', 'f', 'k', 'wast', 'money', 'soni', 'devic', 'futur', 'poor', 'custom', 'loyalti']\n",
      "1\t0.46822134\tb'fill blank f_ k psn f_ k soni f k wast money soni devic futur poor custom loyalti'\n",
      "THE TWEET IS: Less than 24 hours left with my iPhone #countdown #cantwait #byebye #apple\n",
      "THE PROCESSED TWEET IS: ['less', '24', 'hour', 'left', 'iphon', 'countdown', 'cantwait', 'byeby', 'appl']\n",
      "0\t0.50740515\tb'less 24 hour left iphon countdown cantwait byeby appl'\n",
      "THE TWEET IS: I hate iPhones. Why is it impossible for them to use 3G or LTE?? #theworst #cantdeal\n",
      "THE PROCESSED TWEET IS: ['hate', 'iphon', 'imposs', 'use', '3g', 'lte', 'theworst', 'cantdeal']\n",
      "1\t0.46343434\tb'hate iphon imposs use 3g lte theworst cantdeal'\n",
      "THE TWEET IS: Jacked up #iphone can't get messages. I think I've been #hacked #needanewphone #neverhadproblemswithandroid #applestore\n",
      "THE PROCESSED TWEET IS: ['jack', 'iphon', \"can't\", 'get', 'messag', 'think', \"i'v\", 'hack', 'needanewphon', 'neverhadproblemswithandroid', 'applestor']\n",
      "1\t0.47185659\tb\"jack iphon can't get messag think i'v hack needanewphon neverhadproblemswithandroid applestor\"\n",
      "THE TWEET IS: I had a dream that I bought the new iPhone. #nightmare #neveragain\n",
      "THE PROCESSED TWEET IS: ['dream', 'bought', 'new', 'iphon', 'nightmar', 'neveragain']\n",
      "1\t0.43428944\tb'dream bought new iphon nightmar neveragain'\n",
      "THE TWEET IS: The wait is over my iPad 4 has arrived #apple pic.twitter.com/cViBDzjrxW\n",
      "THE PROCESSED TWEET IS: ['wait', 'ipad', '4', 'arriv', 'appl', 'pic.twitter.com/cvibdzjrxw']\n",
      "0\t0.54804022\tb'wait ipad 4 arriv appl pic.twitter.com/cvibdzjrxw'\n",
      "THE TWEET IS: @SamsungUK ...#yousuck worst customer service experience ever. After sales service, non existent. No honor, no cl$&@*# #samsucks #samsung\n",
      "THE PROCESSED TWEET IS: ['...', 'yousuck', 'worst', 'custom', 'servic', 'experi', 'ever', 'sale', 'servic', 'non', 'exist', 'honor', 'cl', 'samsuck', 'samsung']\n",
      "1\t0.47315528\tb'... yousuck worst custom servic experi ever sale servic non exist honor cl samsuck samsung'\n",
      "THE TWEET IS: Steve Jobs to God: \"World would've been addicted to technology anyways, I tried to give them a better version\" but Steve\n",
      "THE PROCESSED TWEET IS: ['steve', 'job', 'god', 'world', \"would'v\", 'addict', 'technolog', 'anyway', 'tri', 'give', 'better', 'version', 'steve']\n",
      "0\t0.50500308\tb\"steve job god world would'v addict technolog anyway tri give better version steve\"\n",
      "THE TWEET IS: Havent had a phone for about 5 hours now and i dont tink i can last till after 12 tomorrow\n",
      "THE PROCESSED TWEET IS: ['havent', 'phone', '5', 'hour', 'dont', 'tink', 'last', 'till', '12', 'tomorrow']\n",
      "0\t0.52472203\tb'havent phone 5 hour dont tink last till 12 tomorrow'\n",
      "THE TWEET IS: FBI tracks #iPhone users to get personal information and identify them: http://blogs.computerworld.com/cybercrime-and-hacking/20937/fbi-tracking-12-million-apple-device-users-antisec-dumps-digital-dirt-1-million …. Just another reason to #hatemac\n",
      "THE PROCESSED TWEET IS: ['fbi', 'track', 'iphon', 'user', 'get', 'person', 'inform', 'identifi', '…', 'anoth', 'reason', 'hatemac']\n",
      "1\t0.42026331\tb'fbi track iphon user get person inform identifi  anoth reason hatemac'\n",
      "THE TWEET IS: I love the music #music #ipodclassic #ipod #apple #happiness #spongebob #bearbrick #toys #doll #yiv #s http://instagr.am/p/QruY7/\n",
      "THE PROCESSED TWEET IS: ['love', 'music', 'music', 'ipodclass', 'ipod', 'appl', 'happi', 'spongebob', 'bearbrick', 'toy', 'doll', 'yiv']\n",
      "0\t0.53762255\tb'love music music ipodclass ipod appl happi spongebob bearbrick toy doll yiv'\n",
      "THE TWEET IS: I need new headphones these ones are breaking #apple #iphone #headphones\n",
      "THE PROCESSED TWEET IS: ['need', 'new', 'headphon', 'one', 'break', 'appl', 'iphon', 'headphon']\n",
      "1\t0.49936454\tb'need new headphon one break appl iphon headphon'\n",
      "THE TWEET IS: Argh twitter on the iphone is stuffing up! But works on my brick of a nokia. #nokia4life\n",
      "THE PROCESSED TWEET IS: ['argh', 'twitter', 'iphon', 'stuf', 'work', 'brick', 'nokia', 'nokia', '4life']\n",
      "1\t0.45209011\tb'argh twitter iphon stuf work brick nokia nokia 4life'\n",
      "THE TWEET IS: To make #iphone6 a hit, #Apple will have to face sue from #Samsung for copying :D :P #PoorChap\n",
      "THE PROCESSED TWEET IS: ['make', 'iphon', '6', 'hit', 'appl', 'face', 'sue', 'samsung', 'copi', ':d', ':p', 'poorchap']\n",
      "1\t0.47496156\tb'make iphon 6 hit appl face sue samsung copi :d :p poorchap'\n",
      "THE TWEET IS: So I got the iPhone 5 today. I would be excited if I wasn't having such a difficult time transferring everything over\n",
      "THE PROCESSED TWEET IS: ['got', 'iphon', '5', 'today', 'would', 'excit', 'difficult', 'time', 'transfer', 'everyth']\n",
      "1\t0.44975822\tb'got iphon 5 today would excit difficult time transfer everyth'\n",
      "THE TWEET IS: Hmmm playstation 3 & Sony You are sucking Geohot!. #Geohot #WINNING #SOny #3DS #OWNS\n",
      "THE PROCESSED TWEET IS: ['hmmm', 'playstat', '3', 'soni', 'suck', 'geohot', 'geohot', 'win', 'soni', '3d', 'own']\n",
      "1\t0.47297344\tb'hmmm playstat 3 soni suck geohot geohot win soni 3d own'\n",
      "THE TWEET IS: FUCK YOU SONY!!!!!!! IS HONG KONG LESS IMPORTANT OR SOME BULL$&@*# YOU TWATS?!?!?! #getonmynerves #psn #ps3 #sony\n",
      "THE PROCESSED TWEET IS: ['fuck', 'soni', 'hong', 'kong', 'less', 'import', 'bull', 'twat', 'getonmynerv', 'psn', 'ps3', 'soni']\n",
      "1\t0.48798239\tb'fuck soni hong kong less import bull twat getonmynerv psn ps3 soni'\n",
      "THE TWEET IS: Well good thing I updated all my apps and now half of them don't work. #theywerefinebefore iphone\n",
      "THE PROCESSED TWEET IS: ['well', 'good', 'thing', 'updat', 'app', 'half', 'work', 'theywerefinebefor', 'iphon']\n",
      "1\t0.46768221\tb'well good thing updat app half work theywerefinebefor iphon'\n",
      "THE TWEET IS: Just tried to upload photos to fb TWICE & my app keeps crashing #TF #ANNOYED\n",
      "THE PROCESSED TWEET IS: ['tri', 'upload', 'photo', 'fb', 'twice', 'app', 'keep', 'crash', 'tf', 'annoy']\n",
      "1\t0.49680672\tb'tri upload photo fb twice app keep crash tf annoy'\n",
      "THE TWEET IS: Even the $600 Mac(with the New OS) looks exactly Like the $3000 Mac. tiefin' company\n",
      "THE PROCESSED TWEET IS: ['even', 'mac', 'new', 'os', 'look', 'exactli', 'like', 'mac', 'tiefin', 'compani']\n",
      "1\t0.48906316\tb'even mac new os look exactli like mac tiefin compani'\n",
      "THE TWEET IS: Thank u Jolly 'ol St. Nick#macbookpro #christmasgift #apple holidays … https://www.instagram.com/p/BObwLGyBBEC/\n",
      "THE PROCESSED TWEET IS: ['thank', 'u', 'jolli', 'ol', 'st', 'nickmacbookpro', 'christmasgift', 'appl', 'holiday', '…']\n",
      "0\t0.50878497\tb'thank u jolli ol st nickmacbookpro christmasgift appl holiday '\n",
      "THE TWEET IS: Hey #Google, #Facebook, #Apple, #Microsoft, #AOL, #Skype, and #Yahoo! http://goo.gl/fb/TDwKq #headlinenews\n",
      "THE PROCESSED TWEET IS: ['hey', 'googl', 'facebook', 'appl', 'microsoft', 'aol', 'skype', 'yahoo', 'headlinenew']\n",
      "0\t0.55214701\tb'hey googl facebook appl microsoft aol skype yahoo headlinenew'\n",
      "THE TWEET IS: @RealWizKhalifa too bad I've had nothing but problems with their products!!!\n",
      "THE PROCESSED TWEET IS: ['bad', \"i'v\", 'noth', 'problem', 'product']\n",
      "0\t0.51101696\tb\"bad i'v noth problem product\"\n",
      "THE TWEET IS: FYI Noone try to imessage me because I no longer have an iphone. #galaxy #samsunglove\n",
      "THE PROCESSED TWEET IS: ['fyi', 'noon', 'tri', 'imessag', 'longer', 'iphon', 'galaxi', 'samsunglov']\n",
      "1\t0.44737543\tb'fyi noon tri imessag longer iphon galaxi samsunglov'\n",
      "THE TWEET IS: Photo: #me #helenabonhamcarter #actress #same #necklace #apple #idol #perfect #helenaist #perfelena...http://tmblr.co/ZFwC4o1D6EfJf\n",
      "THE PROCESSED TWEET IS: ['photo', 'helenabonhamcart', 'actress', 'necklac', 'appl', 'idol', 'perfect', 'helenaist', 'perfelena', '...']\n",
      "0\t0.53768817\tb'photo helenabonhamcart actress necklac appl idol perfect helenaist perfelena ...'\n",
      "THE TWEET IS: this huge tv fell on me earlier today. #thanks #walmart #tv #samsung #ouch #mother$&@*# http://instagram.com/p/mJy9Pjt-ch/\n",
      "THE PROCESSED TWEET IS: ['huge', 'tv', 'fell', 'earlier', 'today', 'thank', 'walmart', 'tv', 'samsung', 'ouch', 'mother']\n",
      "1\t0.46603025\tb'huge tv fell earlier today thank walmart tv samsung ouch mother'\n",
      "THE TWEET IS: Sleep: A Key Ingredient to Happy, Healthy and Productive Lives..https://www.jewishlinknj.com/monthly-sections/health-link-new/25942-sleep-a-key-ingredient-to-happy-healthy-and-productive-lives … #productive #healthy #health #glad #smile #akey #monthly #daily #article #health #healthy #mac #apple #working #workplace #work #workspace #thursday #happpppypic.twitter.com/dvzjKp5HVH\n",
      "THE PROCESSED TWEET IS: ['sleep', 'key', 'ingredi', 'happi', 'healthi', 'product', 'live', '..', '…', 'product', 'healthi', 'health', 'glad', 'smile', 'akey', 'monthli', 'daili', 'articl', 'health', 'healthi', 'mac', 'appl', 'work', 'workplac', 'work', 'workspac', 'thursday', 'happpypic.twitter.com/dvzjkp5hvh']\n",
      "0\t0.50531735\tb'sleep key ingredi happi healthi product live ..  product healthi health glad smile akey monthli daili articl health healthi mac appl work workplac work workspac thursday happpypic.twitter.com/dvzjkp5hvh'\n",
      "THE TWEET IS: Expanding my apply collection slowly! Finally got my Apply TV #Apple #AppleTV #Summer2015pic.twitter.com/x2x1LzYWPI\n",
      "THE PROCESSED TWEET IS: ['expand', 'appli', 'collect', 'slowli', 'final', 'got', 'appli', 'tv', 'appl', 'appletv', 'summer2015pic.twitter.com/x2x1lzywpi']\n",
      "0\t0.54735731\tb'expand appli collect slowli final got appli tv appl appletv summer2015pic.twitter.com/x2x1lzywpi'\n",
      "THE TWEET IS: #i #apple and their #products .. #mac #imac #macbook #macbookpro #logo #iphone #phone #ipod #ipad #app http://instagr.am/p/ORxZ4ILXo2/\n",
      "THE PROCESSED TWEET IS: ['appl', 'product', '..', 'mac', 'imac', 'macbook', 'macbookpro', 'logo', 'iphon', 'phone', 'ipod', 'ipad', 'app']\n",
      "0\t0.52536152\tb'appl product .. mac imac macbook macbookpro logo iphon phone ipod ipad app'\n",
      "THE TWEET IS: me and my mom just ran outside but no apple pic.twitter.com/iWxy7d1mK6\n",
      "THE PROCESSED TWEET IS: ['mom', 'ran', 'outsid', 'appl', 'pic.twitter.com/iwxy7d1mk6']\n",
      "0\t0.55164590\tb'mom ran outsid appl pic.twitter.com/iwxy7d1mk6'\n",
      "THE TWEET IS: AWESOME PHONE CASES! Check out our latest work: http://ow.ly/COlm5 #custom #PhoneCases #iphone #android #apple #google\n",
      "THE PROCESSED TWEET IS: ['awesom', 'phone', 'case', 'check', 'latest', 'work', 'custom', 'phonecas', 'iphon', 'android', 'appl', 'googl']\n",
      "0\t0.50121839\tb'awesom phone case check latest work custom phonecas iphon android appl googl'\n",
      "THE TWEET IS: Congrats iphone users that have ios 7. You now have an android phone. #forevergalaxys4\n",
      "THE PROCESSED TWEET IS: ['congrat', 'iphon', 'user', 'io', '7', 'android', 'phone', 'forevergalaxi', '4']\n",
      "1\t0.46550625\tb'congrat iphon user io 7 android phone forevergalaxi 4'\n",
      "THE TWEET IS: @yatabarry that feeling when you find ya apple headphones at work #apple pic.twitter.com/jNLm6Cca3X\n",
      "THE PROCESSED TWEET IS: ['feel', 'find', 'ya', 'appl', 'headphon', 'work', 'appl', 'pic.twitter.com/jnlm6cca3x']\n",
      "0\t0.60912566\tb'feel find ya appl headphon work appl pic.twitter.com/jnlm6cca3x'\n",
      "THE TWEET IS: Happy Valentines Day!! #saritaceramics #valentine #valentinesday #ceramics #handcrafted #helsinki #finland #apple #ystävänpäiväpic.twitter.com/s9gFNU6vhB\n",
      "THE PROCESSED TWEET IS: ['happi', 'valentin', 'day', 'saritaceram', 'valentin', 'valentinesday', 'ceram', 'handcraft', 'helsinki', 'finland', 'appl', 'ystävänpäiväpic', '.twitter.com/s9gfnu6vhb']\n",
      "0\t0.53774393\tb'happi valentin day saritaceram valentin valentinesday ceram handcraft helsinki finland appl ystvnpivpic .twitter.com/s9gfnu6vhb'\n",
      "THE TWEET IS: Your #Apple Watch can now tell if you’re or #sad from how you speak to it! http://thenextweb.com/apps/2016/04/09/in-case-you-dont-know/ …pic.twitter.com/YNkcvWVbAZ\n",
      "THE PROCESSED TWEET IS: ['appl', 'watch', 'tell', '’', 'sad', 'speak', '…', 'pic.twitter.com/ynkcvwvbaz']\n",
      "0\t0.50975018\tb'appl watch tell  sad speak  pic.twitter.com/ynkcvwvbaz'\n",
      "THE TWEET IS: Absolutely fuming! iPhone has deleted EVERYTHING and been told to contact iTunes support! No call until 4pm\n",
      "THE PROCESSED TWEET IS: ['absolut', 'fume', 'iphon', 'delet', 'everyth', 'told', 'contact', 'itun', 'support', 'call', '4pm']\n",
      "1\t0.46777995\tb'absolut fume iphon delet everyth told contact itun support call 4pm'\n",
      "THE TWEET IS: @miggiq Thank You! Enjoy your new iPad case! #proud #pinoy #art #apple #apple #accessories #m http://instagr.am/p/O57ixkGmZV/\n",
      "THE PROCESSED TWEET IS: ['thank', 'enjoy', 'new', 'ipad', 'case', 'proud', 'pinoy', 'art', 'appl', 'appl', 'accessori']\n",
      "0\t0.56994790\tb'thank enjoy new ipad case proud pinoy art appl appl accessori'\n",
      "THE TWEET IS: Just installed icloud on my computer and it has wiped all my outlook contacts and calender\n",
      "THE PROCESSED TWEET IS: ['instal', 'icloud', 'comput', 'wipe', 'outlook', 'contact', 'calend']\n",
      "0\t0.50733614\tb'instal icloud comput wipe outlook contact calend'\n",
      "THE TWEET IS: #IT #News Apple iPad 2 The Wait is Nearing a Happy Conclusion http://www.barcampabidjan.info/?p=8534 #Apple #Conclusion #iPad\n",
      "THE PROCESSED TWEET IS: ['news', 'appl', 'ipad', '2', 'wait', 'near', 'happi', 'conclus', 'appl', 'conclus', 'ipad']\n",
      "0\t0.57909819\tb'news appl ipad 2 wait near happi conclus appl conclus ipad'\n",
      "THE TWEET IS: @harrym_evo Any news on the UK Android version of the mag yet? The Nexus 7 has sold like hot cakes both sides of the pond!\n",
      "THE PROCESSED TWEET IS: ['news', 'uk', 'android', 'version', 'mag', 'yet', 'nexu', '7', 'sold', 'like', 'hot', 'cake', 'side', 'pond']\n",
      "1\t0.48694240\tb'news uk android version mag yet nexu 7 sold like hot cake side pond'\n",
      "THE TWEET IS: I've only been at work for 4 hours and my phone already almost dead? #$&@*# iphone\n",
      "THE PROCESSED TWEET IS: [\"i'v\", 'work', '4', 'hour', 'phone', 'alreadi', 'almost', 'dead', 'iphon']\n",
      "1\t0.48043001\tb\"i'v work 4 hour phone alreadi almost dead iphon\"\n",
      "THE TWEET IS: ah the #apple #iTunes12 update...it's amazing. Reporting from #Sarcastiville Its station & library options http://tinyurl.com/pb78zp3\n",
      "THE PROCESSED TWEET IS: ['ah', 'appl', 'itun', '12', 'updat', '...', 'amaz', 'report', 'sarcastivil', 'station', 'librari', 'option']\n",
      "0\t0.56492517\tb'ah appl itun 12 updat ... amaz report sarcastivil station librari option'\n",
      "THE TWEET IS: #Apple is now suing a Polish grocery chain - A.pl - for allegedly copying its logo and brand icons. What idiots... #hatemac\n",
      "THE PROCESSED TWEET IS: ['appl', 'su', 'polish', 'groceri', 'chain', 'a.pl', 'allegedli', 'copi', 'logo', 'brand', 'icon', 'idiot', '...', 'hatemac']\n",
      "0\t0.55078195\tb'appl su polish groceri chain a.pl allegedli copi logo brand icon idiot ... hatemac'\n",
      "THE TWEET IS: Everybody be freaking out about iOS7 & I'm here like duuude even windows phones are more advanced than iPhones Customization\n",
      "THE PROCESSED TWEET IS: ['everybodi', 'freak', 'io', '7', \"i'm\", 'like', 'duuud', 'even', 'window', 'phone', 'advanc', 'iphon', 'custom']\n",
      "1\t0.47515104\tb\"everybodi freak io 7 i'm like duuud even window phone advanc iphon custom\"\n",
      "THE TWEET IS: @2BipolarChicks It promotes sheep like following and is mostly vapid logo fawning #HateIt\n",
      "THE PROCESSED TWEET IS: ['promot', 'sheep', 'like', 'follow', 'mostli', 'vapid', 'logo', 'fawn', 'hateit']\n",
      "1\t0.46907350\tb'promot sheep like follow mostli vapid logo fawn hateit'\n",
      "THE TWEET IS: Green Saturday! #fresh #and #green #days #healthy #food #salmon #salad #orange #strawberry #apple #&more pic.twitter.com/Y5URiQ0rB2\n",
      "THE PROCESSED TWEET IS: ['green', 'saturday', 'fresh', 'green', 'day', 'healthi', 'food', 'salmon', 'salad', 'orang', 'strawberri', 'appl', 'pic.twitter.com/y5uriq0rb2']\n",
      "0\t0.53942706\tb'green saturday fresh green day healthi food salmon salad orang strawberri appl pic.twitter.com/y5uriq0rb2'\n",
      "THE TWEET IS: I wish my parents had invested... : ( #apple #stevejobs #goat #invest #stocks @ Newport, Delaware http://instagr.am/p/PvHetTq2nA/\n",
      "THE PROCESSED TWEET IS: ['wish', 'parent', 'invest', '...', 'appl', 'stevejob', 'goat', 'invest', 'stock', 'newport', 'delawar']\n",
      "0\t0.54578922\tb'wish parent invest ... appl stevejob goat invest stock newport delawar'\n",
      "THE TWEET IS: Another cool photo, but I hate it when it doesn't fit the screen :/ #instagood #iphone @ mctrendsphoto http://instagr.am/p/R5LLEuB9YK/\n",
      "THE PROCESSED TWEET IS: ['anoth', 'cool', 'photo', 'hate', 'fit', 'screen', ':/', 'instagood', 'iphon', 'mctrendsphoto']\n",
      "1\t0.44195116\tb'anoth cool photo hate fit screen :/ instagood iphon mctrendsphoto'\n",
      "THE TWEET IS: 11-11-11 FRiDAY !! #goodmorning #friday #happiness #bearbrick #hellokitty #sanrio #apple #macbookpro #m http://instagr.am/p/TnpLq/\n",
      "THE PROCESSED TWEET IS: ['11-11-', '11', 'friday', 'goodmorn', 'friday', 'happi', 'bearbrick', 'hellokitti', 'sanrio', 'appl', 'macbookpro']\n",
      "0\t0.54056649\tb'11-11- 11 friday goodmorn friday happi bearbrick hellokitti sanrio appl macbookpro'\n",
      "THE TWEET IS: every time i install ios 10.3.1 on my iphone 5s keeps lockingitin DFU mode tried every way to get it back out lets try a restore\n",
      "THE PROCESSED TWEET IS: ['everi', 'time', 'instal', 'io', '10.3', '1', 'iphon', '5s', 'keep', 'lockingitin', 'dfu', 'mode', 'tri', 'everi', 'way', 'get', 'back', 'let', 'tri', 'restor']\n",
      "1\t0.48445417\tb'everi time instal io 10.3 1 iphon 5s keep lockingitin dfu mode tri everi way get back let tri restor'\n",
      "THE TWEET IS: I just dreamt in emojis and it was trippy af. And I don't even have an iPhone. #becausefuckapple #dieapple\n",
      "THE PROCESSED TWEET IS: ['dreamt', 'emoji', 'trippi', 'af', 'even', 'iphon', 'becausefuckappl', 'dieappl']\n",
      "1\t0.45060550\tb'dreamt emoji trippi af even iphon becausefuckappl dieappl'\n",
      "THE TWEET IS: And why does this fucking iPhone autocorrect Belichick to Belichek all the time.\n",
      "THE PROCESSED TWEET IS: ['fuck', 'iphon', 'autocorrect', 'belichick', 'belichek', 'time']\n",
      "1\t0.47179600\tb'fuck iphon autocorrect belichick belichek time'\n",
      "THE TWEET IS: Okie phone you can die in like two minutes #cool iphone\n",
      "THE PROCESSED TWEET IS: ['oki', 'phone', 'die', 'like', 'two', 'minut', 'cool', 'iphon']\n",
      "1\t0.45781592\tb'oki phone die like two minut cool iphon'\n",
      "THE TWEET IS: Fruit salad!!! #orange #apple #banana #cinnamon #snack #food #pregnant #nutritionplan #summer… http://instagram.com/p/sKV_SkuK6S/\n",
      "THE PROCESSED TWEET IS: ['fruit', 'salad', 'orang', 'appl', 'banana', 'cinnamon', 'snack', 'food', 'pregnant', 'nutritionplan', 'summer', '…']\n",
      "0\t0.50207402\tb'fruit salad orang appl banana cinnamon snack food pregnant nutritionplan summer '\n",
      "THE TWEET IS: ugh - i have turned off the texts alerts noise about 5x today - and it is still going on my stupid iphone\n",
      "THE PROCESSED TWEET IS: ['ugh', 'turn', 'text', 'alert', 'nois', '5x', 'today', 'still', 'go', 'stupid', 'iphon']\n",
      "1\t0.46147231\tb'ugh turn text alert nois 5x today still go stupid iphon'\n",
      "THE TWEET IS: Hi. I'm #chriswinters & I left #apple #iPhone for the @Microsoft @windowsphone - I love it because its more personal.\n",
      "THE PROCESSED TWEET IS: ['hi', \"i'm\", 'chriswint', 'left', 'appl', 'iphon', 'love', 'person']\n",
      "1\t0.49823203\tb\"hi i'm chriswint left appl iphon love person\"\n",
      "THE TWEET IS: #Apple Has Quietly Started Tracking #iPhone Users Again, And It's Tricky To Opt Out #hatemac #hateiphone http://www.businessinsider.com/ifa-apples-iphone-tracking-in-ios-6-2012-10 …\n",
      "THE PROCESSED TWEET IS: ['appl', 'quietli', 'start', 'track', 'iphon', 'user', 'tricki', 'opt', 'hatemac', 'hateiphon', '…']\n",
      "1\t0.46049174\tb'appl quietli start track iphon user tricki opt hatemac hateiphon '\n",
      "THE TWEET IS: #Apple called and made something wrong, right today. Makes me ! Thank you.\n",
      "THE PROCESSED TWEET IS: ['appl', 'call', 'made', 'someth', 'wrong', 'right', 'today', 'make', 'thank']\n",
      "0\t0.55674062\tb'appl call made someth wrong right today make thank'\n",
      "THE TWEET IS: @MushKat I figured that part out now....still can't share news articles. @rshackelford14\n",
      "THE PROCESSED TWEET IS: ['figur', 'part', '...', 'still', \"can't\", 'share', 'news', 'articl']\n",
      "1\t0.49958042\tb\"figur part ... still can't share news articl\"\n",
      "THE TWEET IS: Love my fucking iPad!!! #rednose #musicevideo #blackfriday #walmart #apple #ipadmini http://instagram.com/p/hSVBQ_F5cb/\n",
      "THE PROCESSED TWEET IS: ['love', 'fuck', 'ipad', 'rednos', 'musicevideo', 'blackfriday', 'walmart', 'appl', 'ipadmini']\n",
      "0\t0.55638199\tb'love fuck ipad rednos musicevideo blackfriday walmart appl ipadmini'\n",
      "THE TWEET IS: #Audi to offer #Apple and #Android smartphone integration from 2015 http://ow.ly/yWVh0\n",
      "THE PROCESSED TWEET IS: ['audi', 'offer', 'appl', 'android', 'smartphon', 'integr', '2015']\n",
      "0\t0.54224591\tb'audi offer appl android smartphon integr 2015'\n",
      "THE TWEET IS: Apparently' 4 painful more hours to go.. So they say.. #iOS7 #apple #staytuned pic.twitter.com/RgJikLyW7h\n",
      "THE PROCESSED TWEET IS: ['appar', '4', 'pain', 'hour', 'go', '..', 'say', '..', 'io', '7', 'appl', 'staytun', 'pic.twitter.com/rgjiklyw7h']\n",
      "0\t0.58134009\tb'appar 4 pain hour go .. say .. io 7 appl staytun pic.twitter.com/rgjiklyw7h'\n",
      "THE TWEET IS: If I didn't have an iPhone I'd be asleep every night by 9 iphone\n",
      "THE PROCESSED TWEET IS: ['iphon', \"i'd\", 'asleep', 'everi', 'night', '9', 'iphon']\n",
      "1\t0.39812600\tb\"iphon i'd asleep everi night 9 iphon\"\n",
      "THE TWEET IS: Saving money for an iPad mini..hopefully will get it by next week! #apple #ipad\n",
      "THE PROCESSED TWEET IS: ['save', 'money', 'ipad', 'mini', '..', 'hope', 'get', 'next', 'week', 'appl', 'ipad']\n",
      "0\t0.55698632\tb'save money ipad mini .. hope get next week appl ipad'\n",
      "THE TWEET IS: @googlemaps Google Maps for iPhone is exciting. Now I just need my iPad mini version. #apple #maps #push #pin #for #money\n",
      "THE PROCESSED TWEET IS: ['googl', 'map', 'iphon', 'excit', 'need', 'ipad', 'mini', 'version', 'appl', 'map', 'push', 'pin', 'money']\n",
      "0\t0.50157337\tb'googl map iphon excit need ipad mini version appl map push pin money'\n",
      "THE TWEET IS: Trying to get a PDF from Mac to iPad http://img.pandawhale.com/post-16779-IT-Crowd-gifs-ke2b.gif … WHY IS IT SO IMPOSSIBLE!!?\n",
      "THE PROCESSED TWEET IS: ['tri', 'get', 'pdf', 'mac', 'ipad', '…', 'imposs']\n",
      "1\t0.46692032\tb'tri get pdf mac ipad  imposs'\n",
      "THE TWEET IS: I can't believe I'm saying this but I think I like my Droid better than my iPhone. #pissed #fixit\n",
      "THE PROCESSED TWEET IS: [\"can't\", 'believ', \"i'm\", 'say', 'think', 'like', 'droid', 'better', 'iphon', 'piss', 'fixit']\n",
      "1\t0.46671588\tb\"can't believ i'm say think like droid better iphon piss fixit\"\n",
      "THE TWEET IS: just in case you're wondering what i'm on about http://www.peekabootranny.com/ #apple #robots #haters\n",
      "THE PROCESSED TWEET IS: ['case', 'wonder', \"i'm\", 'appl', 'robot', 'hater']\n",
      "0\t0.54920202\tb\"case wonder i'm appl robot hater\"\n",
      "THE TWEET IS: #PoolSide with d_ann04 #Lollipop #Suck #Lick #Apple #Cherry #swimming #Hot #Summer #Tanning #redhead http://instagram.com/p/ab8W5WDsWE/\n",
      "THE PROCESSED TWEET IS: ['poolsid', 'd_ann', '04', 'lollipop', 'suck', 'lick', 'appl', 'cherri', 'swim', 'hot', 'summer', 'tan', 'redhead']\n",
      "0\t0.55531303\tb'poolsid d_ann 04 lollipop suck lick appl cherri swim hot summer tan redhead'\n",
      "THE TWEET IS: Apple always paying all these primetime shows to put a placement in there... apple\n",
      "THE PROCESSED TWEET IS: ['appl', 'alway', 'pay', 'primetim', 'show', 'put', 'placement', '...', 'appl']\n",
      "0\t0.60447336\tb'appl alway pay primetim show put placement ... appl'\n",
      "THE TWEET IS: If i havent texted back my phone reset after work & again -_- #sorry iphone\n",
      "THE PROCESSED TWEET IS: ['havent', 'text', 'back', 'phone', 'reset', 'work', 'sorri', 'iphon']\n",
      "1\t0.47296619\tb'havent text back phone reset work sorri iphon'\n",
      "THE TWEET IS: No filter neeeded, the phone did it all. #trip #sea #crazy #phone #romance #smile #iphonex #amanzing #shot #lithuania #vilnius #trakai #instalike #instadaily #like4like #likeme #likes #instaphoto https://ift.tt/2LRK282 pic.twitter.com/2uFJvHv4H8\n",
      "THE PROCESSED TWEET IS: ['filter', 'neeed', 'phone', 'trip', 'sea', 'crazi', 'phone', 'romanc', 'smile', 'iphonex', 'amanz', 'shot', 'lithuania', 'vilniu', 'trakai', 'instalik', 'instadaili', 'like', '4like', 'likem', 'like', 'instaphoto', 'pic.twitter.com/2ufjvhv4h8']\n",
      "0\t0.50172143\tb'filter neeed phone trip sea crazi phone romanc smile iphonex amanz shot lithuania vilniu trakai instalik instadaili like 4like likem like instaphoto pic.twitter.com/2ufjvhv4h8'\n",
      "THE TWEET IS: And now my PS3 is fucked... thank you Sony for a wonderful product. #notreally #sony\n",
      "THE PROCESSED TWEET IS: ['ps3', 'fuck', '...', 'thank', 'soni', 'wonder', 'product', 'notreal', 'soni']\n",
      "1\t0.48630354\tb'ps3 fuck ... thank soni wonder product notreal soni'\n",
      "THE TWEET IS: My iPhone tells me there's a software upgrade then it says actually no, you've not got enough storage on your phone!\n",
      "THE PROCESSED TWEET IS: ['iphon', 'tell', \"there'\", 'softwar', 'upgrad', 'say', 'actual', 'got', 'enough', 'storag', 'phone']\n",
      "1\t0.47460923\tb\"iphon tell there' softwar upgrad say actual got enough storag phone\"\n",
      "THE TWEET IS: Act on this, not whether or not you can afford the iPhone 6 #Gaza #iPhone6 #Apple pic.twitter.com/H7GzYQMMUl\n",
      "THE PROCESSED TWEET IS: ['act', 'whether', 'afford', 'iphon', '6', 'gaza', 'iphon', '6', 'appl', 'pic.twitter.com/h7gzyqmmul']\n",
      "1\t0.44965473\tb'act whether afford iphon 6 gaza iphon 6 appl pic.twitter.com/h7gzyqmmul'\n",
      "THE TWEET IS: I need another phone!! This #Xperia is pissin me off!!! I my droid..but I will switch over 2 #iPHONE in a quickness if this $&@*# cont!\n",
      "THE PROCESSED TWEET IS: ['need', 'anoth', 'phone', 'xperia', 'pissin', 'droid', '..', 'switch', '2', 'iphon', 'quick', 'cont']\n",
      "1\t0.47254120\tb'need anoth phone xperia pissin droid .. switch 2 iphon quick cont'\n",
      "THE TWEET IS: It's like I would to get an #iphone but people be getting it because all the hype -_-. Plus I heard there are a lot of malfunctions.\n",
      "THE PROCESSED TWEET IS: ['like', 'would', 'get', 'iphon', 'peopl', 'get', 'hype', 'plu', 'heard', 'lot', 'malfunct']\n",
      "1\t0.46545888\tb'like would get iphon peopl get hype plu heard lot malfunct'\n",
      "THE TWEET IS: Photo: Android taking a $&@*# on apple, and rightly so #iphoneis$&@*# #macsare$&@*# http://tmblr.co/ZinQnxbGW3QF\n",
      "THE PROCESSED TWEET IS: ['photo', 'android', 'take', 'appl', 'rightli', 'iphonei', 'macsar']\n",
      "0\t0.54080254\tb'photo android take appl rightli iphonei macsar'\n",
      "THE TWEET IS: Finally getting my comp updated to mountain lion!!! :) #apple #mac\n",
      "THE PROCESSED TWEET IS: ['final', 'get', 'comp', 'updat', 'mountain', 'lion', ':)', 'appl', 'mac']\n",
      "0\t0.56899273\tb'final get comp updat mountain lion :) appl mac'\n",
      "THE TWEET IS: iPhone restored, changed my password since everyone knew this one, ten minutes later forgot my password and had to restore again\n",
      "THE PROCESSED TWEET IS: ['iphon', 'restor', 'chang', 'password', 'sinc', 'everyon', 'knew', 'one', 'ten', 'minut', 'later', 'forgot', 'password', 'restor']\n",
      "1\t0.46011584\tb'iphon restor chang password sinc everyon knew one ten minut later forgot password restor'\n",
      "THE TWEET IS: @sonyxperia can't wait to try him out.. Still have z1 compact and #extremely . #super # #quality #Sony #Xperia\n",
      "THE PROCESSED TWEET IS: [\"can't\", 'wait', 'tri', '..', 'still', 'z1', 'compact', 'extrem', 'super', 'qualiti', 'soni', 'xperia']\n",
      "0\t0.50226227\tb\"can't wait tri .. still z1 compact extrem super qualiti soni xperia\"\n",
      "THE TWEET IS: My telescreen is everything but ordinary. Keeping an ear out for all the crap I say. I see what you did there #samsung\n",
      "THE PROCESSED TWEET IS: ['telescreen', 'everyth', 'ordinari', 'keep', 'ear', 'crap', 'say', 'see', 'samsung']\n",
      "1\t0.48172437\tb'telescreen everyth ordinari keep ear crap say see samsung'\n",
      "THE TWEET IS: @jason_van_wyk went to get a #samsung other day but was advised not to\n",
      "THE PROCESSED TWEET IS: ['went', 'get', 'samsung', 'day', 'advis']\n",
      "1\t0.48040761\tb'went get samsung day advis'\n",
      "THE TWEET IS: All luck are planned. #digitalmarketing #seo #smm #android #apple #ipone #iOS #strategy #goa #growth #branding #startupindia #quote\n",
      "THE PROCESSED TWEET IS: ['luck', 'plan', 'digitalmarket', 'seo', 'smm', 'android', 'appl', 'ipon', 'io', 'strategi', 'goa', 'growth', 'brand', 'startupindia', 'quot']\n",
      "0\t0.55307361\tb'luck plan digitalmarket seo smm android appl ipon io strategi goa growth brand startupindia quot'\n",
      "THE TWEET IS: So I bought my #Xbox on #Monday (5days ago), last night my TV brokedown #sony Now I… https://www.instagram.com/p/BBaNQGLxNYk/\n",
      "THE PROCESSED TWEET IS: ['bought', 'xbox', 'monday', '5day', 'ago', 'last', 'night', 'tv', 'brokedown', 'soni', '…']\n",
      "1\t0.43868039\tb'bought xbox monday 5day ago last night tv brokedown soni '\n",
      "THE TWEET IS: Taylor Swift joins opening acts Camila Cabello and Charli XCX for the start of her Reputation Tour\n",
      "THE PROCESSED TWEET IS: ['taylor', 'swift', 'join', 'open', 'act', 'camila', 'cabello', 'charli', 'xcx', 'start', 'reput', 'tour']\n",
      "0\t0.50128870\tb'taylor swift join open act camila cabello charli xcx start reput tour'\n",
      "THE TWEET IS: We are in love with #Apple #IOS5 !!! Not happy w 2hr upgrade/Sync, but it was worth it\n",
      "THE PROCESSED TWEET IS: ['love', 'appl', 'io', '5', 'happi', 'w', '2hr', 'upgrad', 'sync', 'worth']\n",
      "0\t0.54344710\tb'love appl io 5 happi w 2hr upgrad sync worth'\n",
      "THE TWEET IS: I could seriously send a message on the back of a turtle and it would get there quicker than an iMessage could right now iphone\n",
      "THE PROCESSED TWEET IS: ['could', 'serious', 'send', 'messag', 'back', 'turtl', 'would', 'get', 'quicker', 'imessag', 'could', 'right', 'iphon']\n",
      "1\t0.47022169\tb'could serious send messag back turtl would get quicker imessag could right iphon'\n",
      "THE TWEET IS: #IPhone not registering #iphone no reception #iphone fucken $&@*# #iphone blah blah blah my #NokiaE71\n",
      "THE PROCESSED TWEET IS: ['iphon', 'regist', 'iphon', 'recept', 'iphon', 'fucken', 'iphon', 'blah', 'blah', 'blah', 'nokia', '71']\n",
      "1\t0.30366898\tb'iphon regist iphon recept iphon fucken iphon blah blah blah nokia 71'\n",
      "THE TWEET IS: @dmcconachie @giffgaff @Emily @mashable And I used to do it with my old Sony Ericsson P800!\n",
      "THE PROCESSED TWEET IS: ['use', 'old', 'soni', 'ericsson', 'p8', '00']\n",
      "1\t0.48996639\tb'use old soni ericsson p8 00'\n",
      "THE TWEET IS: Periwinkle Blue Wooden Bird Feeder - Gardening Gifts - Scottish Gifts - Birds - Apple https://www.numonday.com/product/periwinkle-blue-wooden-bird-feeder-gardening-gifts-scottish-gifts-birds-apple-balls-scotland-gardener-nature-garden/ … #nuMONDAY #womaninbiz #HandmadeHour #tweedvalley #birds #gardens #gifts #giftidea #ScottishBorders #Apple #green #BLUE #Eco #crafthour\n",
      "THE PROCESSED TWEET IS: ['periwinkl', 'blue', 'wooden', 'bird', 'feeder', 'garden', 'gift', 'scottish', 'gift', 'bird', 'appl', '…', 'numonday', 'womaninbiz', 'handmadehour', 'tweedvalley', 'bird', 'garden', 'gift', 'giftidea', 'scottishbord', 'appl', 'green', 'blue', 'eco', 'crafthour']\n",
      "0\t0.53980846\tb'periwinkl blue wooden bird feeder garden gift scottish gift bird appl  numonday womaninbiz handmadehour tweedvalley bird garden gift giftidea scottishbord appl green blue eco crafthour'\n",
      "THE TWEET IS: Apple's anti-competitive war on consumer choice targets Samsung's Galaxy S III http://bit.ly/PWAYet #WhyIhateApple\n",
      "THE PROCESSED TWEET IS: [\"apple'\", 'anti-competit', 'war', 'consum', 'choic', 'target', \"samsung'\", 'galaxi', 'iii', 'whyihateappl']\n",
      "1\t0.49338979\tb\"apple' anti-competit war consum choic target samsung' galaxi iii whyihateappl\"\n",
      "THE TWEET IS: See the positive in the smallest of things #apple heart #wednesdaymotivation #healthpic.twitter.com/i29mx4wG4p\n",
      "THE PROCESSED TWEET IS: ['see', 'posit', 'smallest', 'thing', 'appl', 'heart', 'wednesdaymotiv', 'healthpic.twitter.com/i29mx4wg4p']\n",
      "0\t0.55260151\tb'see posit smallest thing appl heart wednesdaymotiv healthpic.twitter.com/i29mx4wg4p'\n",
      "THE TWEET IS: The prices for phones nowadays are like umm yeah let me just cut off this arm for you just so I can have this phone…#fuckthat #sobull$&@*# #apple #iphone\n",
      "THE PROCESSED TWEET IS: ['price', 'phone', 'nowaday', 'like', 'umm', 'yeah', 'let', 'cut', 'arm', 'phone', '…', 'fuckthat', 'sobul', 'appl', 'iphon']\n",
      "1\t0.48565507\tb'price phone nowaday like umm yeah let cut arm phone  fuckthat sobul appl iphon'\n",
      "THE TWEET IS: Keep a lookout for my next blog. Addiction to apple. Coming soon #apple #icrack #Steve jobs #iPad #iPhone #Mac http://thebloggercist.com/\n",
      "THE PROCESSED TWEET IS: ['keep', 'lookout', 'next', 'blog', 'addict', 'appl', 'come', 'soon', 'appl', 'icrack', 'steve', 'job', 'ipad', 'iphon', 'mac']\n",
      "0\t0.55032222\tb'keep lookout next blog addict appl come soon appl icrack steve job ipad iphon mac'\n",
      "THE TWEET IS: 3 hours later and still trying to install iOS7. Please, Google/Android people, don't bother commenting. I don't care. #apple\n",
      "THE PROCESSED TWEET IS: ['3', 'hour', 'later', 'still', 'tri', 'instal', 'io', '7', 'pleas', 'googl', 'android', 'peopl', 'bother', 'comment', 'care', 'appl']\n",
      "0\t0.57163910\tb'3 hour later still tri instal io 7 pleas googl android peopl bother comment care appl'\n",
      "THE TWEET IS: Great I got to wait a whole hour to talk to someone about my iPhone !!!\n",
      "THE PROCESSED TWEET IS: ['great', 'got', 'wait', 'whole', 'hour', 'talk', 'someon', 'iphon']\n",
      "1\t0.45783799\tb'great got wait whole hour talk someon iphon'\n",
      "THE TWEET IS: It's a great day for #HOCKEY !!!! #lets #go @penguins #bruins #sky #apple #iphone4s #igers… http://instagram.com/p/aMOnayjD8d/\n",
      "THE PROCESSED TWEET IS: ['great', 'day', 'hockey', 'let', 'go', 'bruin', 'sky', 'appl', 'iphon', '4s', 'iger', '…']\n",
      "1\t0.45452961\tb'great day hockey let go bruin sky appl iphon 4s iger '\n",
      "THE TWEET IS: This drink is amazing #fruits #apple #cherry #purple #tasty #drink #sun #garden http://instagram.com/p/dwai0rlIeA/\n",
      "THE PROCESSED TWEET IS: ['drink', 'amaz', 'fruit', 'appl', 'cherri', 'purpl', 'tasti', 'drink', 'sun', 'garden']\n",
      "0\t0.54283317\tb'drink amaz fruit appl cherri purpl tasti drink sun garden'\n",
      "THE TWEET IS: Send me your contacts plz my new iPhone didn't sync and all my info and photos and numbers are gone #apple\n",
      "THE PROCESSED TWEET IS: ['send', 'contact', 'plz', 'new', 'iphon', 'sync', 'info', 'photo', 'number', 'gone', 'appl']\n",
      "1\t0.48655712\tb'send contact plz new iphon sync info photo number gone appl'\n",
      "THE TWEET IS: FUCK YOU WITH ALL MY HEART MOTHER FUCKERS!! #bo2 #activision #ps3 #sony #playstation #blackops2\n",
      "THE PROCESSED TWEET IS: ['fuck', 'heart', 'mother', 'fucker', 'bo2', 'activis', 'ps3', 'soni', 'playstat', 'blackop', '2']\n",
      "1\t0.49887227\tb'fuck heart mother fucker bo2 activis ps3 soni playstat blackop 2'\n",
      "THE TWEET IS: Loving life, my macbook pro turned up today and its amazing! #Apple #MacBook #Girl #Blonde It http://instagram.com/p/owbcCgC2qr/\n",
      "THE PROCESSED TWEET IS: ['love', 'life', 'macbook', 'pro', 'turn', 'today', 'amaz', 'appl', 'macbook', 'girl', 'blond']\n",
      "0\t0.51722562\tb'love life macbook pro turn today amaz appl macbook girl blond'\n",
      "THE TWEET IS: Yeah - my new Watch series 3 came with the post today - so happy about it #gay #gaydenmark #gaycph #gaydeutschland #gayuk #gaydaddy #applewatchseries3 #apple #applewatchpic.twitter.com/0gl7dDFRbK\n",
      "THE PROCESSED TWEET IS: ['yeah', 'new', '\\uf8ff', 'watch', 'seri', '3', 'came', 'post', 'today', 'happi', 'gay', 'gaydenmark', 'gaycph', 'gaydeutschland', 'gayuk', 'gaydaddi', 'applewatchseri', '3', 'appl', 'applewatchpic.twitter.com/0gl7ddfrbk']\n",
      "0\t0.52022340\tb'yeah new  watch seri 3 came post today happi gay gaydenmark gaycph gaydeutschland gayuk gaydaddi applewatchseri 3 appl applewatchpic.twitter.com/0gl7ddfrbk'\n",
      "THE TWEET IS: fe fucksing a black man I #to #see #my #wife #fucksing #a #black #man #Spanking #$&@*# #porn #iphone #ipad - http://is.gd/GTSL7d\n",
      "THE PROCESSED TWEET IS: ['fe', 'fucks', 'black', 'man', 'see', 'wife', 'fucks', 'black', 'man', 'spank', 'porn', 'iphon', 'ipad']\n",
      "1\t0.43874169\tb'fe fucks black man see wife fucks black man spank porn iphon ipad'\n",
      "THE TWEET IS: Scrolls through twitter and Facebook for like 20 mins and phone goes from 85% to 63%... Seriously iPhone? #iphone #batterysucks\n",
      "THE PROCESSED TWEET IS: ['scroll', 'twitter', 'facebook', 'like', '20', 'min', 'phone', 'goe', '85', '63', '...', 'serious', 'iphon', 'iphon', 'batterysuck']\n",
      "1\t0.40599557\tb'scroll twitter facebook like 20 min phone goe 85 63 ... serious iphon iphon batterysuck'\n",
      "THE TWEET IS: New Apple iPhone 6s, iPhone 6s Plus.. I think its the old wine in a new bottle and at the same price!! #iphone #apple\n",
      "THE PROCESSED TWEET IS: ['new', 'appl', 'iphon', '6s', 'iphon', '6s', 'plu', '..', 'think', 'old', 'wine', 'new', 'bottl', 'price', 'iphon', 'appl']\n",
      "1\t0.42753976\tb'new appl iphon 6s iphon 6s plu .. think old wine new bottl price iphon appl'\n",
      "THE TWEET IS: Nephews birthday dinner at BJ's! He's locing his crappy new ipad mini that I was forced to buy!\n",
      "THE PROCESSED TWEET IS: ['nephew', 'birthday', 'dinner', \"bj'\", \"he'\", 'loce', 'crappi', 'new', 'ipad', 'mini', 'forc', 'buy']\n",
      "1\t0.47866589\tb\"nephew birthday dinner bj' he' loce crappi new ipad mini forc buy\"\n",
      "THE TWEET IS: Charged my phone 3 times today it's now at 9% again! iphone\n",
      "THE PROCESSED TWEET IS: ['charg', 'phone', '3', 'time', 'today', '9', 'iphon']\n",
      "1\t0.46426003\tb'charg phone 3 time today 9 iphon'\n",
      "THE TWEET IS: When you text your boyfriend saying have a 'nice shift a work' and your phone changes it to 'shit' #fml iPhone\n",
      "THE PROCESSED TWEET IS: ['text', 'boyfriend', 'say', 'nice', 'shift', 'work', 'phone', 'chang', 'shit', 'fml', 'iphon']\n",
      "1\t0.47805310\tb'text boyfriend say nice shift work phone chang shit fml iphon'\n",
      "THE TWEET IS: My apple was so happy today . #fruit #apple life #brightside… https://www.instagram.com/p/BK9k3ZFBcce/\n",
      "THE PROCESSED TWEET IS: ['appl', 'happi', 'today', 'fruit', 'appl', 'life', 'brightsid', '…']\n",
      "0\t0.53511260\tb'appl happi today fruit appl life brightsid '\n",
      "THE TWEET IS: Ugh! Rumors again of an Apple-Twitter deal? I will quit Twitter cold turkey if that happens\n",
      "THE PROCESSED TWEET IS: ['ugh', 'rumor', 'apple-twitt', 'deal', 'quit', 'twitter', 'cold', 'turkey', 'happen']\n",
      "1\t0.49939831\tb'ugh rumor apple-twitt deal quit twitter cold turkey happen'\n",
      "THE TWEET IS: those holes #suck #apple bring in the classy instead of the funky!\n",
      "THE PROCESSED TWEET IS: ['hole', 'suck', 'appl', 'bring', 'classi', 'instead', 'funki']\n",
      "0\t0.56022471\tb'hole suck appl bring classi instead funki'\n",
      "THE TWEET IS: i'm a part of the Apple Iphone 4S family! #Apple #Iphone pic.twitter.com/D7WdSXy5\n",
      "THE PROCESSED TWEET IS: [\"i'm\", 'part', 'appl', 'iphon', '4s', 'famili', 'appl', 'iphon', 'pic.twitter.com/d7wdsxy5']\n",
      "0\t0.50311253\tb\"i'm part appl iphon 4s famili appl iphon pic.twitter.com/d7wdsxy5\"\n",
      "THE TWEET IS: I can't stand when iPhone users put me in a group chat and a bunch of random people text me! #androidproblems #galaxyproblems\n",
      "THE PROCESSED TWEET IS: [\"can't\", 'stand', 'iphon', 'user', 'put', 'group', 'chat', 'bunch', 'random', 'peopl', 'text', 'androidproblem', 'galaxyproblem']\n",
      "1\t0.46272568\tb\"can't stand iphon user put group chat bunch random peopl text androidproblem galaxyproblem\"\n",
      "THE TWEET IS: hacking password wifi prank https://goo.gl/5QkuLF #lion #les #watermelo #apple #gta #xiaomi #amd #smartphone #lol #sony #cool #lg\n",
      "THE PROCESSED TWEET IS: ['hack', 'password', 'wifi', 'prank', 'lion', 'le', 'watermelo', 'appl', 'gta', 'xiaomi', 'amd', 'smartphon', 'lol', 'soni', 'cool', 'lg']\n",
      "0\t0.52463271\tb'hack password wifi prank lion le watermelo appl gta xiaomi amd smartphon lol soni cool lg'\n",
      "THE TWEET IS: seriously can't wait to be due my phone upgrade so I can get rid of this iPhone only thing I like about this phone is facetime!\n",
      "THE PROCESSED TWEET IS: ['serious', \"can't\", 'wait', 'due', 'phone', 'upgrad', 'get', 'rid', 'iphon', 'thing', 'like', 'phone', 'facetim']\n",
      "1\t0.49737677\tb\"serious can't wait due phone upgrad get rid iphon thing like phone facetim\"\n",
      "THE TWEET IS: @O2 does it really make a difference. iPhone 5s 32gb worst phone ever #iphone #rubbish\n",
      "THE PROCESSED TWEET IS: ['realli', 'make', 'differ', 'iphon', '5s', '32gb', 'worst', 'phone', 'ever', 'iphon', 'rubbish']\n",
      "1\t0.42258994\tb'realli make differ iphon 5s 32gb worst phone ever iphon rubbish'\n",
      "THE TWEET IS: @scotters I'll be a loyal BB user until they put RIM in the ground then I'll hop on the Android bus. But never an iPhone...never!\n",
      "THE PROCESSED TWEET IS: [\"i'll\", 'loyal', 'bb', 'user', 'put', 'rim', 'ground', \"i'll\", 'hop', 'android', 'bu', 'never', 'iphon', '...', 'never']\n",
      "1\t0.44976885\tb\"i'll loyal bb user put rim ground i'll hop android bu never iphon ... never\"\n",
      "THE TWEET IS: There's a fine line between love and hate! #hate #iphone #iphonesia #instagram #saturday http://instagr.am/p/JsComEJ-p1/\n",
      "THE PROCESSED TWEET IS: [\"there'\", 'fine', 'line', 'love', 'hate', 'hate', 'iphon', 'iphonesia', 'instagram', 'saturday']\n",
      "1\t0.44333661\tb\"there' fine line love hate hate iphon iphonesia instagram saturday\"\n",
      "THE TWEET IS: My phone is so annoying \"sending message failed\" $&@*# OFF!!!!!!!! iphone\n",
      "THE PROCESSED TWEET IS: ['phone', 'annoy', 'send', 'messag', 'fail', 'iphon']\n",
      "1\t0.46875424\tb'phone annoy send messag fail iphon'\n",
      "THE TWEET IS: My new iPod was meant to arrive by today and it hasnt :(\n",
      "THE PROCESSED TWEET IS: ['new', 'ipod', 'meant', 'arriv', 'today', 'hasnt', ':(']\n",
      "1\t0.48846860\tb'new ipod meant arriv today hasnt :('\n",
      "THE TWEET IS: WAS going to start a scrap book, but all my photos are formatted for Mac on my hard-drive $&@*# YOU TECHNOLOGY\n",
      "THE PROCESSED TWEET IS: ['go', 'start', 'scrap', 'book', 'photo', 'format', 'mac', 'hard-driv', 'technolog']\n",
      "1\t0.49771861\tb'go start scrap book photo format mac hard-driv technolog'\n",
      "THE TWEET IS: @Mona Wow, #tough #real #talk. Well now that I have unlimited #MMS #apple #iphone #technology, you can expect lotsa #relevant #tweets.\n",
      "THE PROCESSED TWEET IS: ['wow', 'tough', 'real', 'talk', 'well', 'unlimit', 'mm', 'appl', 'iphon', 'technolog', 'expect', 'lotsa', 'relev', 'tweet']\n",
      "0\t0.50140476\tb'wow tough real talk well unlimit mm appl iphon technolog expect lotsa relev tweet'\n",
      "THE TWEET IS: Lol nicked it. RT @IamNickD: Says it all. #HateAPPLE #Android #picoftheday #photooftheday #insta #Instagram http://po.st/suJyIE\n",
      "THE PROCESSED TWEET IS: ['lol', 'nick', 'rt', 'say', 'hateappl', 'android', 'picoftheday', 'photooftheday', 'insta', 'instagram']\n",
      "1\t0.46846182\tb'lol nick rt say hateappl android picoftheday photooftheday insta instagram'\n",
      "THE TWEET IS: Why is it so awkward to fill out an online form on an iPad? Gave up and got laptop out\n",
      "THE PROCESSED TWEET IS: ['awkward', 'fill', 'onlin', 'form', 'ipad', 'gave', 'got', 'laptop']\n",
      "1\t0.49646324\tb'awkward fill onlin form ipad gave got laptop'\n",
      "THE TWEET IS: #verizon your computers would be down when i want to order the new #iphone\n",
      "THE PROCESSED TWEET IS: ['verizon', 'comput', 'would', 'want', 'order', 'new', 'iphon']\n",
      "1\t0.44265043\tb'verizon comput would want order new iphon'\n",
      "THE TWEET IS: i wish my phone didn't die all the time... #damnit #samsung\n",
      "THE PROCESSED TWEET IS: ['wish', 'phone', 'die', 'time', '...', 'damnit', 'samsung']\n",
      "1\t0.48727035\tb'wish phone die time ... damnit samsung'\n",
      "THE TWEET IS: Anybody listened to the new U2 yet? Took me all night to convince iTunes to let me have it. U2 #quandary\n",
      "THE PROCESSED TWEET IS: ['anybodi', 'listen', 'new', 'u2', 'yet', 'took', 'night', 'convinc', 'itun', 'let', 'u2', 'quandari']\n",
      "1\t0.49807999\tb'anybodi listen new u2 yet took night convinc itun let u2 quandari'\n",
      "THE TWEET IS: Seriously hate my iPhone it deleted all my pictures all my music all my apps so it could update and none of them will come back. !\n",
      "THE PROCESSED TWEET IS: ['serious', 'hate', 'iphon', 'delet', 'pictur', 'music', 'app', 'could', 'updat', 'none', 'come', 'back']\n",
      "1\t0.47591863\tb'serious hate iphon delet pictur music app could updat none come back'\n",
      "THE TWEET IS: I reported this issue just after receiving iphone replacement. Your advisor refused. Now my iPhone itself saying the same and you accepted by posting on your website. Feeling cheated. apple pic.twitter.com/4nmpr1VFlW\n",
      "THE PROCESSED TWEET IS: ['report', 'issu', 'receiv', 'iphon', 'replac', 'advisor', 'refus', 'iphon', 'say', 'accept', 'post', 'websit', 'feel', 'cheat', 'appl', 'pic.twitter.com/4nmpr1vflw']\n",
      "1\t0.45656474\tb'report issu receiv iphon replac advisor refus iphon say accept post websit feel cheat appl pic.twitter.com/4nmpr1vflw'\n",
      "THE TWEET IS: Dear #Sony and #Microsoft I will now have had to replace both your most advanced systems on the market. #fail\n",
      "THE PROCESSED TWEET IS: ['dear', 'soni', 'microsoft', 'replac', 'advanc', 'system', 'market', 'fail']\n",
      "1\t0.48702510\tb'dear soni microsoft replac advanc system market fail'\n",
      "THE TWEET IS: New iphone sounds terrible! Been waiting ages for it aswell! #3310\n",
      "THE PROCESSED TWEET IS: ['new', 'iphon', 'sound', 'terribl', 'wait', 'age', 'aswel', '3310']\n",
      "1\t0.43747683\tb'new iphon sound terribl wait age aswel 3310'\n",
      "THE TWEET IS: Bought myself a gift. #macbookair #mba #apple #gift #brandnew #mac #nofilter http://instagram.com/p/dyuoj6IDNy/\n",
      "THE PROCESSED TWEET IS: ['bought', 'gift', 'macbookair', 'mba', 'appl', 'gift', 'brandnew', 'mac', 'nofilt']\n",
      "0\t0.54477728\tb'bought gift macbookair mba appl gift brandnew mac nofilt'\n",
      "THE TWEET IS: What would my night be if I didn't drop my phone on my face in bed every night? iphone\n",
      "THE PROCESSED TWEET IS: ['would', 'night', 'drop', 'phone', 'face', 'bed', 'everi', 'night', 'iphon']\n",
      "1\t0.46281461\tb'would night drop phone face bed everi night iphon'\n",
      "THE TWEET IS: Iphone 5c will not available in Indonesia until January 2014.. #apple #iphone\n",
      "THE PROCESSED TWEET IS: ['iphon', '5c', 'avail', 'indonesia', 'januari', '2014', '..', 'appl', 'iphon']\n",
      "1\t0.45204078\tb'iphon 5c avail indonesia januari 2014 .. appl iphon'\n",
      "THE TWEET IS: Big bang created galaxies. Nowadays galaxy creates Big Bang. Reverse engineering at its best #SamsungBlast #BigBangTheory #NotPhysics\n",
      "THE PROCESSED TWEET IS: ['big', 'bang', 'creat', 'galaxi', 'nowaday', 'galaxi', 'creat', 'big', 'bang', 'revers', 'engin', 'best', 'samsungblast', 'bigbangtheori', 'notphys']\n",
      "1\t0.48481909\tb'big bang creat galaxi nowaday galaxi creat big bang revers engin best samsungblast bigbangtheori notphys'\n",
      "THE TWEET IS: Just had T-Mobile on trying to sell me an iPad, are they new here.. #justsayin\n",
      "THE PROCESSED TWEET IS: ['t-mobil', 'tri', 'sell', 'ipad', 'new', '..', 'justsayin']\n",
      "1\t0.48900021\tb't-mobil tri sell ipad new .. justsayin'\n",
      "THE TWEET IS: #sony you have got to be one of the worse companies in the world..... you worthless peices of shit.. #xbox is looking really good\n",
      "THE PROCESSED TWEET IS: ['soni', 'got', 'one', 'wors', 'compani', 'world', '...', 'worthless', 'peic', 'shit', '..', 'xbox', 'look', 'realli', 'good']\n",
      "1\t0.48958300\tb'soni got one wors compani world ... worthless peic shit .. xbox look realli good'\n",
      "THE TWEET IS: @RadioShack guy checked for @Sprint upgrade eligibility. Switching to #Samsung #S4 from #iphone for $50!! http://4sq.com/19JEDt6\n",
      "THE PROCESSED TWEET IS: ['guy', 'check', 'upgrad', 'elig', 'switch', 'samsung', 's4', 'iphon']\n",
      "1\t0.42056804\tb'guy check upgrad elig switch samsung s4 iphon'\n",
      "THE TWEET IS: even slower now! #hateapple! i cant even unlock my iphone..its kind of responds but no display #iOS9 #Appleerrorhttps://twitter.com/bfor_brittany/status/645264724309905412 …\n",
      "THE PROCESSED TWEET IS: ['even', 'slower', 'hateappl', 'cant', 'even', 'unlock', 'iphon', '..', 'kind', 'respond', 'display', 'io', '9', 'appleerror', '…']\n",
      "1\t0.42388976\tb'even slower hateappl cant even unlock iphon .. kind respond display io 9 appleerror '\n",
      "THE TWEET IS: Rose gold apple Watch. #rosegold #apple #gift #pretty #vegas #instagood #instagram… https://www.instagram.com/p/Bb0ZtD-nABy/\n",
      "THE PROCESSED TWEET IS: ['rose', 'gold', 'appl', 'watch', 'rosegold', 'appl', 'gift', 'pretti', 'vega', 'instagood', 'instagram', '…']\n",
      "0\t0.53574658\tb'rose gold appl watch rosegold appl gift pretti vega instagood instagram '\n",
      "THE TWEET IS: Idk if I should download Dead Nation and inFAMOUS and never play either one, or just not download anything #Sony #PSN #Playstation\n",
      "THE PROCESSED TWEET IS: ['idk', 'download', 'dead', 'nation', 'infam', 'never', 'play', 'either', 'one', 'download', 'anyth', 'soni', 'psn', 'playstat']\n",
      "1\t0.49812426\tb'idk download dead nation infam never play either one download anyth soni psn playstat'\n",
      "THE TWEET IS: Sex, iphone, sex, iphone.. There's no middle ground with this woman! #lonely #sadface @holliebizkit !!\n",
      "THE PROCESSED TWEET IS: ['sex', 'iphon', 'sex', 'iphon', '..', \"there'\", 'middl', 'ground', 'woman', 'lone', 'sadfac']\n",
      "1\t0.40155947\tb\"sex iphon sex iphon .. there' middl ground woman lone sadfac\"\n",
      "THE TWEET IS: #OnePlusOne is beast of a phone, finally bought one & now just can't get my hands off it. #enjoyingmyself #thankyou #Oneplus #inlove\n",
      "THE PROCESSED TWEET IS: ['onepluson', 'beast', 'phone', 'final', 'bought', 'one', \"can't\", 'get', 'hand', 'enjoyingmyself', 'thankyou', 'oneplu', 'inlov']\n",
      "0\t0.53031707\tb\"onepluson beast phone final bought one can't get hand enjoyingmyself thankyou oneplu inlov\"\n",
      "THE TWEET IS: Nothing like a happy Mac. #totoro #apple #mac #idea #japaneseanime #weird https://instagram.com/p/-ZJbGbx1Ao/\n",
      "THE PROCESSED TWEET IS: ['noth', 'like', 'happi', 'mac', 'totoro', 'appl', 'mac', 'idea', 'japaneseanim', 'weird']\n",
      "0\t0.54437435\tb'noth like happi mac totoro appl mac idea japaneseanim weird'\n",
      "THE TWEET IS: I just can't do it. Every time I look at a PC laptop, it only makes me want a MacBook Pro even more... Apple\n",
      "THE PROCESSED TWEET IS: [\"can't\", 'everi', 'time', 'look', 'pc', 'laptop', 'make', 'want', 'macbook', 'pro', 'even', '...', 'appl']\n",
      "0\t0.56905267\tb\"can't everi time look pc laptop make want macbook pro even ... appl\"\n",
      "THE TWEET IS: Lmao!! #siri #iphone4s #iphone #apple #funny #lol #$&@*# #$&@*# #this$&@*# #smart$&@*# #haha http://instagr.am/p/KOvstiP56K/\n",
      "THE PROCESSED TWEET IS: ['lmao', 'siri', 'iphon', '4s', 'iphon', 'appl', 'funni', 'lol', 'smart', 'haha']\n",
      "1\t0.43892833\tb'lmao siri iphon 4s iphon appl funni lol smart haha'\n",
      "THE TWEET IS: Whoever said iPhone's were the best in the world were wrong, mine won't even let me receive calls or texts :-( iPhone\n",
      "THE PROCESSED TWEET IS: ['whoever', 'said', \"iphone'\", 'best', 'world', 'wrong', 'mine', 'even', 'let', 'receiv', 'call', 'text', ':-(', 'iphon']\n",
      "1\t0.45724580\tb\"whoever said iphone' best world wrong mine even let receiv call text :-( iphon\"\n",
      "THE TWEET IS: Proud to be a #punk #tech #dude. #FuckYou #Apple #iPad #iPhone4S #SexPistols http://instagr.am/p/G2pye6j4B7/\n",
      "THE PROCESSED TWEET IS: ['proud', 'punk', 'tech', 'dude', 'fuckyou', 'appl', 'ipad', 'iphon', '4s', 'sexpistol']\n",
      "1\t0.49668159\tb'proud punk tech dude fuckyou appl ipad iphon 4s sexpistol'\n",
      "THE TWEET IS: RT @FoziFauziana RT @taoogy Baby apple #$&@*# #suck #apple #mac #baby #children #user #makassar #sulsel #indonesia http://instagr.am/p/WO8nIgyvBw/\n",
      "THE PROCESSED TWEET IS: ['rt', 'babi', 'appl', 'suck', 'appl', 'mac', 'babi', 'children', 'user', 'makassar', 'sulsel', 'indonesia']\n",
      "0\t0.59452897\tb'rt babi appl suck appl mac babi children user makassar sulsel indonesia'\n",
      "THE TWEET IS: Whats next? RT @TheNextWeb: Your #Apple Watch can now tell if you're or sad from how you speak to it http://tnw.me/bE7oUMc #ios\n",
      "THE PROCESSED TWEET IS: ['what', 'next', 'rt', 'appl', 'watch', 'tell', 'sad', 'speak', 'io']\n",
      "0\t0.54940139\tb'what next rt appl watch tell sad speak io'\n",
      "THE TWEET IS: @vanle23 Done with @SamsungMobileUS now that Jay-z on the payroll. That's enough to make me buy an iPhone and I\n",
      "THE PROCESSED TWEET IS: ['done', 'jay-z', 'payrol', \"that'\", 'enough', 'make', 'buy', 'iphon']\n",
      "1\t0.45699546\tb\"done jay-z payrol that' enough make buy iphon\"\n",
      "THE TWEET IS: OMG! Tears of joy just came down seeing Flash 11.1 support on #samsung #galaxynote2 #flash The dream is alive. on that #apple!\n",
      "THE PROCESSED TWEET IS: ['omg', 'tear', 'joy', 'came', 'see', 'flash', '11.1', 'support', 'samsung', 'galaxynot', '2', 'flash', 'dream', 'aliv', 'appl']\n",
      "0\t0.52483573\tb'omg tear joy came see flash 11.1 support samsung galaxynot 2 flash dream aliv appl'\n",
      "THE TWEET IS: Dumb niggas on #PS3 I swear #Sony #Illuminati this had dying for no reason add me on PSN:… http://instagr.am/p/V3ZjZ5Mf82/\n",
      "THE PROCESSED TWEET IS: ['dumb', 'nigga', 'ps3', 'swear', 'soni', 'illuminati', 'die', 'reason', 'add', 'psn', '…']\n",
      "1\t0.44504990\tb'dumb nigga ps3 swear soni illuminati die reason add psn '\n",
      "THE TWEET IS: Compare the pair... Best upgrade! #birthday #macbook #apple #acer #pro #computer #present #boom http://instagr.am/p/Q1OypIiRx1/\n",
      "THE PROCESSED TWEET IS: ['compar', 'pair', '...', 'best', 'upgrad', 'birthday', 'macbook', 'appl', 'acer', 'pro', 'comput', 'present', 'boom']\n",
      "0\t0.54025999\tb'compar pair ... best upgrad birthday macbook appl acer pro comput present boom'\n",
      "THE TWEET IS: I my #iPhone's wallpaper so much !! It's full of constellation at the milk way !! @annabelle09472 @shermaine417 want me to bump ?\n",
      "THE PROCESSED TWEET IS: [\"iphone'\", 'wallpap', 'much', 'full', 'constel', 'milk', 'way', 'want', 'bump']\n",
      "0\t0.50641642\tb\"iphone' wallpap much full constel milk way want bump\"\n",
      "THE TWEET IS: It's 2012, every HD capable electronic device should come wireless out of the box, with HDMI cable already included. #Sony\n",
      "THE PROCESSED TWEET IS: ['2012', 'everi', 'hd', 'capabl', 'electron', 'devic', 'come', 'wireless', 'box', 'hdmi', 'cabl', 'alreadi', 'includ', 'soni']\n",
      "1\t0.48768498\tb'2012 everi hd capabl electron devic come wireless box hdmi cabl alreadi includ soni'\n",
      "THE TWEET IS: DANG IT! who told me he was gonna b a dad, soon? #STOOPID #iphone lost all my effin txt msg hist/data/pix/apps… #ATTSUX #APPLE\n",
      "THE PROCESSED TWEET IS: ['dang', 'told', 'gonna', 'b', 'dad', 'soon', 'stoopid', 'iphon', 'lost', 'effin', 'txt', 'msg', 'hist', 'data', 'pix', 'app', '…', 'attsux', 'appl']\n",
      "1\t0.45955889\tb'dang told gonna b dad soon stoopid iphon lost effin txt msg hist data pix app  attsux appl'\n",
      "THE TWEET IS: In 3 or 4 yrs I rarely had problems with #ipodclassic, in less than 1 yr I've had multiple issues with #ipodtouch fifth gen #apple\n",
      "THE PROCESSED TWEET IS: ['3', '4', 'yr', 'rare', 'problem', 'ipodclass', 'less', '1', 'yr', \"i'v\", 'multipl', 'issu', 'ipodtouch', 'fifth', 'gen', 'appl']\n",
      "0\t0.56007377\tb\"3 4 yr rare problem ipodclass less 1 yr i'v multipl issu ipodtouch fifth gen appl\"\n",
      "THE TWEET IS: Y'all who have iPhone4 suck it bc I have the iPhone5..losers so outta date!...*1week later* \"Now presenting the iPhone6!\" #Apple you\n",
      "THE PROCESSED TWEET IS: [\"y'all\", 'iphon', '4', 'suck', 'bc', 'iphon', '5', '..', 'loser', 'outta', 'date', '...', '1week', 'later', 'present', 'iphon', '6', 'appl']\n",
      "1\t0.40402017\tb\"y'all iphon 4 suck bc iphon 5 .. loser outta date ... 1week later present iphon 6 appl\"\n",
      "THE TWEET IS: #Whoo Hoo Wilmer! #Apple Up! #Ribby! A #Kid #Caught it in the stands! He is So ! :D #Sweet! :D #LGM\n",
      "THE PROCESSED TWEET IS: ['whoo', 'hoo', 'wilmer', 'appl', 'ribbi', 'kid', 'caught', 'stand', ':d', 'sweet', ':d', 'lgm']\n",
      "0\t0.54457458\tb'whoo hoo wilmer appl ribbi kid caught stand :d sweet :d lgm'\n",
      "THE TWEET IS: Amazing that AT&T can inject so much #suck into the process of buying a new #iPhone from #apple. They're a brand cancer. #att\n",
      "THE PROCESSED TWEET IS: ['amaz', 'inject', 'much', 'suck', 'process', 'buy', 'new', 'iphon', 'appl', \"they'r\", 'brand', 'cancer', 'att']\n",
      "1\t0.49514691\tb\"amaz inject much suck process buy new iphon appl they'r brand cancer att\"\n",
      "THE TWEET IS: Pretty amazing feeling having a phone that doesn’t need a charge all day. #iphonex #iphone6sucked #apple #theshit\n",
      "THE PROCESSED TWEET IS: ['pretti', 'amaz', 'feel', 'phone', '’', 'need', 'charg', 'day', 'iphonex', 'iphon', '6suck', 'appl', 'theshit']\n",
      "0\t0.50986801\tb'pretti amaz feel phone  need charg day iphonex iphon 6suck appl theshit'\n",
      "THE TWEET IS: How to get a file name of a jpeg on iPhone iPad once downloaded?\n",
      "THE PROCESSED TWEET IS: ['get', 'file', 'name', 'jpeg', 'iphon', 'ipad', 'download']\n",
      "1\t0.45657651\tb'get file name jpeg iphon ipad download'\n",
      "THE TWEET IS: Katie is currently having a major problem using iTunes to update her iPhone while on her macbook #hilarious\n",
      "THE PROCESSED TWEET IS: ['kati', 'current', 'major', 'problem', 'use', 'itun', 'updat', 'iphon', 'macbook', 'hilari']\n",
      "1\t0.47656120\tb'kati current major problem use itun updat iphon macbook hilari'\n",
      "THE TWEET IS: People hate on iPhones saying \"your phone never changes\" yet the Samsung Galaxy looks the same since the first model. #Apple\n",
      "THE PROCESSED TWEET IS: ['peopl', 'hate', 'iphon', 'say', 'phone', 'never', 'chang', 'yet', 'samsung', 'galaxi', 'look', 'sinc', 'first', 'model', 'appl']\n",
      "1\t0.49990308\tb'peopl hate iphon say phone never chang yet samsung galaxi look sinc first model appl'\n",
      "THE TWEET IS: so finito with iPhones. Nothing but problems since the moment I got it... 2 months ago #Rubbish #iPhone\n",
      "THE PROCESSED TWEET IS: ['finito', 'iphon', 'noth', 'problem', 'sinc', 'moment', 'got', '...', '2', 'month', 'ago', 'rubbish', 'iphon']\n",
      "1\t0.40019336\tb'finito iphon noth problem sinc moment got ... 2 month ago rubbish iphon'\n",
      "THE TWEET IS: To #Apple: purposely slowing down the iPhone 4 to get people to upgrade to iPhone 5 is a #DickMove if I ever saw one!! >:-(\n",
      "THE PROCESSED TWEET IS: ['appl', 'purpos', 'slow', 'iphon', '4', 'get', 'peopl', 'upgrad', 'iphon', '5', 'dickmov', 'ever', 'saw', 'one', '>:-(']\n",
      "1\t0.46711291\tb'appl purpos slow iphon 4 get peopl upgrad iphon 5 dickmov ever saw one >:-('\n",
      "THE TWEET IS: tracks purchased from itunes = 853. purchased tracks currently working in itunes = ZERO apple #stillbuyinganiphone\n",
      "THE PROCESSED TWEET IS: ['track', 'purchas', 'itun', '853', 'purchas', 'track', 'current', 'work', 'itun', 'zero', 'appl', 'stillbuyinganiphon']\n",
      "0\t0.57139877\tb'track purchas itun 853 purchas track current work itun zero appl stillbuyinganiphon'\n",
      "THE TWEET IS: WHY CANT IPHONES HAVE THE OPTION TO CHANGE THE FONT LIKE WHAT IF I WANT A CUTE GIRLY ONE BUT NO. THATS NOT AN OPTION SORRY. UGH.\n",
      "THE PROCESSED TWEET IS: ['cant', 'iphon', 'option', 'chang', 'font', 'like', 'want', 'cute', 'girli', 'one', 'that', 'option', 'sorri', 'ugh']\n",
      "1\t0.44759658\tb'cant iphon option chang font like want cute girli one that option sorri ugh'\n",
      "THE TWEET IS: Apple deals massive patent blow to HTC, Android in serious trouble http://zd.net/nIU0Mi\n",
      "THE PROCESSED TWEET IS: ['appl', 'deal', 'massiv', 'patent', 'blow', 'htc', 'android', 'seriou', 'troubl']\n",
      "0\t0.54753908\tb'appl deal massiv patent blow htc android seriou troubl'\n",
      "THE TWEET IS: Don't make time for people that don't make time for you #sad #samsung #galaxys3 #galaxys4… http://instagram.com/p/aJq-o8qVZA/\n",
      "THE PROCESSED TWEET IS: ['make', 'time', 'peopl', 'make', 'time', 'sad', 'samsung', 'galaxi', '3', 'galaxi', '4', '…']\n",
      "1\t0.42908848\tb'make time peopl make time sad samsung galaxi 3 galaxi 4 '\n",
      "THE TWEET IS: @HannahHendzel: My iPad is a load of $&@*# #$&@*# #Overrated I LOVE this\n",
      "THE PROCESSED TWEET IS: ['ipad', 'load', 'overr', 'love']\n",
      "1\t0.48724826\tb'ipad load overr love'\n",
      "THE TWEET IS: Fallout 3 GOTY is 10 bucks on Steam today and I have no means of playing it... #whycruelworld\n",
      "THE PROCESSED TWEET IS: ['fallout', '3', 'goti', '10', 'buck', 'steam', 'today', 'mean', 'play', '...', 'whycruelworld']\n",
      "1\t0.49000380\tb'fallout 3 goti 10 buck steam today mean play ... whycruelworld'\n",
      "THE TWEET IS: If you take off half a day just to PLAY with your Iphone, you are a pretentious asshole #asshole #iPhone #applesucks\n",
      "THE PROCESSED TWEET IS: ['take', 'half', 'day', 'play', 'iphon', 'pretenti', 'asshol', 'asshol', 'iphon', 'applesuck']\n",
      "1\t0.39952519\tb'take half day play iphon pretenti asshol asshol iphon applesuck'\n",
      "THE TWEET IS: iPhone is slowly braking screens cracked and now won't charge !!\n",
      "THE PROCESSED TWEET IS: ['iphon', 'slowli', 'brake', 'screen', 'crack', 'charg']\n",
      "1\t0.45486816\tb'iphon slowli brake screen crack charg'\n",
      "THE TWEET IS: The only reason I would get an iPhone is 1. Phone cases and 2. ANDROID IS LAST TO GET EVERYTHING #Vine #Instagramvideo #butreally\n",
      "THE PROCESSED TWEET IS: ['reason', 'would', 'get', 'iphon', '1', 'phone', 'case', '2', 'android', 'last', 'get', 'everyth', 'vine', 'instagramvideo', 'butreal']\n",
      "1\t0.47613791\tb'reason would get iphon 1 phone case 2 android last get everyth vine instagramvideo butreal'\n",
      "THE TWEET IS: #driveclub ought be sued for false advertising: none of what has been shown is demonstrably correct #sony @DriveClubCo\n",
      "THE PROCESSED TWEET IS: ['driveclub', 'ought', 'su', 'fals', 'advertis', 'none', 'shown', 'demonstr', 'correct', 'soni']\n",
      "1\t0.48515951\tb'driveclub ought su fals advertis none shown demonstr correct soni'\n",
      "THE TWEET IS: I HAVE 5 EFFIN' BARS AND A 3G SYMBOL! LOAD MY EFFIN' TIMELINE, U #STOOPID EFFIN' #IPHONE!!! #ATT #APPLE #IPHONE !\n",
      "THE PROCESSED TWEET IS: ['5', 'effin', 'bar', '3g', 'symbol', 'load', 'effin', 'timelin', 'u', 'stoopid', 'effin', 'iphon', 'att', 'appl', 'iphon']\n",
      "1\t0.45477406\tb'5 effin bar 3g symbol load effin timelin u stoopid effin iphon att appl iphon'\n",
      "THE TWEET IS: Trending Topics: Earth Day #earthday #Apple #health2con #Susan Boyle #AT&T #Apprentice #Oprah #iPod #IPhone\n",
      "THE PROCESSED TWEET IS: ['trend', 'topic', 'earth', 'day', 'earthday', 'appl', 'health', '2con', 'susan', 'boyl', 'apprentic', 'oprah', 'ipod', 'iphon']\n",
      "0\t0.50221494\tb'trend topic earth day earthday appl health 2con susan boyl apprentic oprah ipod iphon'\n",
      "THE TWEET IS: Welcome to my world baby !! #iwatch #watch #bahraini1983 #bahrain #nano #ipod #ipod #apple #birthday http://instagr.am/p/LLPhhHPVq6/\n",
      "THE PROCESSED TWEET IS: ['welcom', 'world', 'babi', 'iwatch', 'watch', 'bahraini', '1983', 'bahrain', 'nano', 'ipod', 'ipod', 'appl', 'birthday']\n",
      "0\t0.55689019\tb'welcom world babi iwatch watch bahraini 1983 bahrain nano ipod ipod appl birthday'\n",
      "THE TWEET IS: Just ran to buy an iPhone charger in the middle of the night ... these iPhone chargers ...they #iphone #Apple\n",
      "THE PROCESSED TWEET IS: ['ran', 'buy', 'iphon', 'charger', 'middl', 'night', '...', 'iphon', 'charger', '...', 'iphon', 'appl']\n",
      "1\t0.40390205\tb'ran buy iphon charger middl night ... iphon charger ... iphon appl'\n",
      "THE TWEET IS: Finally got my ipad mini!!! Now I have to wait for the case and screen protector in the mail. #ipadmini #Apple\n",
      "THE PROCESSED TWEET IS: ['final', 'got', 'ipad', 'mini', 'wait', 'case', 'screen', 'protector', 'mail', 'ipadmini', 'appl']\n",
      "0\t0.53876756\tb'final got ipad mini wait case screen protector mail ipadmini appl'\n",
      "THE TWEET IS: #vegan #glutenfree #apple #pie #day @ Silly Sally's Pop Up Diner http://instagram.com/p/v4ss-YFYFL/\n",
      "THE PROCESSED TWEET IS: ['vegan', 'glutenfre', 'appl', 'pie', 'day', 'silli', \"sally'\", 'pop', 'diner']\n",
      "0\t0.54759223\tb\"vegan glutenfre appl pie day silli sally' pop diner\"\n"
     ]
    }
   ],
   "source": [
    "# Some error analysis \n",
    "print('Label Predicted Tweet')\n",
    "for x,y in zip(test_x,test_y):\n",
    "    y_hat = predict_tweet(x, freqs, theta)\n",
    "\n",
    "    if np.abs(y - (y_hat > 0.5)) > 0:\n",
    "        print('THE TWEET IS:', x)\n",
    "        print('THE PROCESSED TWEET IS:', process_tweet(x))\n",
    "        print('%d\\t%0.8f\\t%s' % (y, y_hat, ' '.join(process_tweet(x)).encode('ascii', 'ignore')))"
   ]
  },
  {
   "cell_type": "markdown",
   "metadata": {},
   "source": [
    "\n",
    "## Predict with your own Tweet"
   ]
  },
  {
   "cell_type": "code",
   "execution_count": 239,
   "metadata": {},
   "outputs": [
    {
     "name": "stdout",
     "output_type": "stream",
     "text": [
      "['write', 'tweet']\n",
      "[[0.50048925]]\n",
      "Positive sentiment\n"
     ]
    }
   ],
   "source": [
    "# Feel free to change the tweet below\n",
    "my_tweet = '    write your tweet here  '\n",
    "print(process_tweet(my_tweet))\n",
    "y_hat = predict_tweet(my_tweet, freqs, theta)\n",
    "print(y_hat)\n",
    "if y_hat > 0.5:\n",
    "    print('Positive sentiment')\n",
    "else: \n",
    "    print('Negative sentiment')"
   ]
  }
 ],
 "metadata": {
  "kernelspec": {
   "display_name": "Python 3",
   "language": "python",
   "name": "python3"
  },
  "language_info": {
   "codemirror_mode": {
    "name": "ipython",
    "version": 3
   },
   "file_extension": ".py",
   "mimetype": "text/x-python",
   "name": "python",
   "nbconvert_exporter": "python",
   "pygments_lexer": "ipython3",
   "version": "3.8.7"
  }
 },
 "nbformat": 4,
 "nbformat_minor": 4
}
